{
 "cells": [
  {
   "cell_type": "markdown",
   "metadata": {
    "id": "I_SqGquuT7K0"
   },
   "source": [
    "# GPU-accelerated image processing using CUPY and CUCIM\n",
    "Processing large images with python can take time. In order to accelerate processing, graphics processing units (GPUs) can be exploited, for example using [NVidia CUDA](https://en.wikipedia.org/wiki/CUDA). For processing images with CUDA, there are a couple of libraries available. We will take a closer look at [cupy](https://cupy.dev/), which brings more general computing capabilities for CUDA compatible GPUs, and [cucim](https://github.com/rapidsai/cucim), a library of image processing specific operations using CUDA. Both together can serve as GPU-surrogate for [scikit-image](https://scikit-image.org/).\n",
    "\n",
    "See also\n",
    "* [StackOverflow: Is it possible to install cupy on google colab?](https://stackoverflow.com/questions/49135065/is-it-possible-to-install-cupy-on-google-colab)\n",
    "* [Cucim example notebooks](https://github.com/rapidsai/cucim/blob/branch-0.20/notebooks/Welcome.ipynb)\n",
    "\n",
    "Before we start, we need to install CUDA and CUCIM it properly. The following commands make this notebook run in Google Colab."
   ]
  },
  {
   "cell_type": "code",
   "execution_count": null,
   "metadata": {
    "colab": {
     "base_uri": "https://localhost:8080/"
    },
    "id": "zY7ZNaKWQnqQ",
    "outputId": "51734eaf-fb1e-405f-9859-1948da94b1c7"
   },
   "outputs": [],
   "source": [
    "!curl https://colab.chainer.org/install | sh -\n",
    "\n",
    "!pip install cucim\n",
    "!pip install scipy scikit-image cupy-cuda100"
   ]
  },
  {
   "cell_type": "code",
   "execution_count": null,
   "metadata": {
    "id": "44Iz1nuLQWqG"
   },
   "outputs": [],
   "source": [
    "import numpy as np\n",
    "import cupy as cp\n",
    "import cucim\n",
    "from skimage.io import imread, imshow\n",
    "import pandas as pd"
   ]
  },
  {
   "cell_type": "markdown",
   "metadata": {
    "id": "zpcCXV7yPtsc"
   },
   "source": [
    "In the following, we are using image data from Paci et al shared under  the [CC BY 4.0](https://creativecommons.org/licenses/by/4.0/) license. See also: https://doi.org/10.17867/10000140 \n"
   ]
  },
  {
   "cell_type": "code",
   "execution_count": null,
   "metadata": {
    "colab": {
     "base_uri": "https://localhost:8080/",
     "height": 314
    },
    "id": "OgExavuOOJKx",
    "outputId": "d2c7f566-9fe8-436b-877d-004ca7a8ed2f"
   },
   "outputs": [],
   "source": [
    "image = imread('https://idr.openmicroscopy.org/webclient/render_image_download/9844418/?format=tif')\n",
    "\n",
    "imshow(image)"
   ]
  },
  {
   "cell_type": "markdown",
   "metadata": {
    "id": "1bMdYN2xR40Y"
   },
   "source": [
    "In order to process an image using CUDA on the GPU, we need to convert it. Under the hood of this conversion, the image data is sent from computer random access memory (RAM) to the GPUs memory."
   ]
  },
  {
   "cell_type": "code",
   "execution_count": null,
   "metadata": {
    "colab": {
     "base_uri": "https://localhost:8080/"
    },
    "id": "X6iCh2YqQHkT",
    "outputId": "2bd39abd-ee16-40d3-9fb6-af021759758b"
   },
   "outputs": [],
   "source": [
    "image_gpu = cp.asarray(image)\n",
    "\n",
    "image_gpu.shape"
   ]
  },
  {
   "cell_type": "markdown",
   "metadata": {
    "id": "1_ar9AyLR5al"
   },
   "source": [
    "Extracting a single channel out of the three-channel image works like if we were working with numpy. Showing the image does not work, because the CUDA image is not available in memory. In order to get it back from GPU memory, we need to convert it to a numpy array."
   ]
  },
  {
   "cell_type": "code",
   "execution_count": null,
   "metadata": {
    "colab": {
     "base_uri": "https://localhost:8080/",
     "height": 297
    },
    "id": "noWzAc8JRmcM",
    "outputId": "77262cbb-56d6-45da-ddfb-a4015f3dd812"
   },
   "outputs": [],
   "source": [
    "single_channel_gpu = image_gpu[:,:,1]\n",
    "\n",
    "# the following line would fail\n",
    "# imshow(single_channel_gpu)\n",
    "\n",
    "# get single channel image back from GPU memory and show it\n",
    "single_channel = cp.asnumpy(single_channel_gpu)\n",
    "imshow(single_channel)\n",
    "\n",
    "# we can also do this with a convenience function\n",
    "def gpu_imshow(image_gpu):\n",
    "  image = np.asarray(image_gpu)\n",
    "  imshow(image)"
   ]
  },
  {
   "cell_type": "markdown",
   "metadata": {
    "id": "y3eApJ2VYo3t"
   },
   "source": [
    "## Image filtering and segmentation\n",
    "\n",
    "The cucim developers have re-implemented many functions from sckit image, e.g. the [Gaussian blur filter](https://docs.rapids.ai/api/cucim/stable/api.html#cucim.skimage.filters.gaussian), [Otsu Thresholding](https://docs.rapids.ai/api/cucim/stable/api.html#cucim.skimage.filters.threshold_otsu) after [Otsu et al. 1979](https://ieeexplore.ieee.org/document/4310076), [binary erosion](https://docs.rapids.ai/api/cucim/stable/api.html#cucim.skimage.morphology.binary_erosion) and [connected component labeling](https://docs.rapids.ai/api/cucim/stable/api.html#cucim.skimage.measure.label)."
   ]
  },
  {
   "cell_type": "code",
   "execution_count": null,
   "metadata": {
    "colab": {
     "base_uri": "https://localhost:8080/",
     "height": 297
    },
    "id": "H6X0UdUIRsoO",
    "outputId": "e7f507e0-1759-460c-d9f5-e01922d4d2bb"
   },
   "outputs": [],
   "source": [
    " from cucim.skimage.filters import gaussian\n",
    "\n",
    " blurred_gpu = gaussian(single_channel_gpu, sigma=5)\n",
    "\n",
    " gpu_imshow(blurred_gpu)"
   ]
  },
  {
   "cell_type": "code",
   "execution_count": null,
   "metadata": {
    "colab": {
     "base_uri": "https://localhost:8080/",
     "height": 297
    },
    "id": "ZdHr80deSye7",
    "outputId": "740689ff-7a68-4b1e-bee2-3197c0034471"
   },
   "outputs": [],
   "source": [
    "from cucim.skimage.filters import threshold_otsu\n",
    "\n",
    "# determine threshold\n",
    "threshold = threshold_otsu(blurred_gpu)\n",
    "\n",
    "# binarize image by apply the threshold\n",
    "binary_gpu = blurred_gpu > threshold\n",
    "\n",
    "gpu_imshow(binary_gpu)"
   ]
  },
  {
   "cell_type": "code",
   "execution_count": null,
   "metadata": {
    "colab": {
     "base_uri": "https://localhost:8080/",
     "height": 297
    },
    "id": "I8yw3rJITj6T",
    "outputId": "7aba486d-9e1c-49ef-9427-4e51b1306fb0"
   },
   "outputs": [],
   "source": [
    "from cucim.skimage.morphology import binary_erosion, disk\n",
    "\n",
    "eroded_gpu = binary_erosion(binary_gpu, selem=disk(2))\n",
    "\n",
    "gpu_imshow(eroded_gpu)"
   ]
  },
  {
   "cell_type": "code",
   "execution_count": null,
   "metadata": {
    "colab": {
     "base_uri": "https://localhost:8080/",
     "height": 351
    },
    "id": "gCvy1x2NVti-",
    "outputId": "c8a0901e-dd56-46e9-92bc-502ef6951d44"
   },
   "outputs": [],
   "source": [
    "from cucim.skimage.measure import label\n",
    "\n",
    "labels_gpu = label(eroded_gpu)\n",
    "\n",
    "gpu_imshow(labels_gpu)"
   ]
  },
  {
   "cell_type": "markdown",
   "metadata": {
    "id": "17b8WZqWaIMn"
   },
   "source": [
    "For visualization purposes, it is recommended to turn the label image into an RGB image, especially if you want to save it to disk."
   ]
  },
  {
   "cell_type": "code",
   "execution_count": null,
   "metadata": {
    "colab": {
     "base_uri": "https://localhost:8080/",
     "height": 351
    },
    "id": "OoUxrrWuZ2D7",
    "outputId": "985835b2-4bdd-4224-ad9d-236d1efebc4c"
   },
   "outputs": [],
   "source": [
    "from cucim.skimage.color import label2rgb\n",
    "\n",
    "labels_rgb_gpu = label2rgb(labels_gpu)\n",
    "\n",
    "gpu_imshow(labels_rgb_gpu)"
   ]
  },
  {
   "cell_type": "markdown",
   "metadata": {
    "id": "QYzUSmEmaT2B"
   },
   "source": [
    "## Quantitative measurements\n",
    "\n",
    "Also quantitative measurments using [regionprops_table](https://docs.rapids.ai/api/cucim/stable/api.html#cucim.skimage.measure.regionprops_table) have been implemented in cucim. A major difference is that you need to convert its result back to numpy if you want to continue processing on the CPU, e.g. using [pandas](https://pandas.pydata.org/)."
   ]
  },
  {
   "cell_type": "code",
   "execution_count": null,
   "metadata": {
    "colab": {
     "base_uri": "https://localhost:8080/"
    },
    "id": "Sl5EK8R2WEuI",
    "outputId": "920ba7f8-4d00-4ad8-9cc5-1cf72b51c1c9"
   },
   "outputs": [],
   "source": [
    "from cucim.skimage.measure import regionprops_table \n",
    "\n",
    "table_gpu = regionprops_table(labels_gpu, intensity_image=single_channel_gpu, properties=('mean_intensity', 'area', 'solidity'))\n",
    "\n",
    "table_gpu"
   ]
  },
  {
   "cell_type": "code",
   "execution_count": null,
   "metadata": {
    "colab": {
     "base_uri": "https://localhost:8080/",
     "height": 576
    },
    "id": "vOi8JINbXGe3",
    "outputId": "cfb15bcc-df16-4eda-8dff-c99e240b9ef9"
   },
   "outputs": [],
   "source": [
    "# The following line would fail.\n",
    "# pd.DataFrame(table_gpu)\n",
    "\n",
    "# We need to convert that table to numpy before we can pass it to pandas.\n",
    "table = {item[0] : cp.asnumpy(item[1]) for item in table_gpu.items()}\n",
    "pd.DataFrame(table)"
   ]
  },
  {
   "cell_type": "markdown",
   "metadata": {},
   "source": [
    "# GPU libraries"
   ]
  },
  {
   "cell_type": "code",
   "execution_count": 22,
   "metadata": {},
   "outputs": [
    {
     "data": {
      "text/plain": [
       "(100, 100)"
      ]
     },
     "execution_count": 22,
     "metadata": {},
     "output_type": "execute_result"
    }
   ],
   "source": [
    "import numpy as np\n",
    "\n",
    "data_a = np.random.random([100,1])\n",
    "data_b = np.random.random([100,1])\n",
    "\n",
    "mat_c = np.matmul(data_a, data_b.T)\n",
    "mat_c.shape"
   ]
  },
  {
   "cell_type": "code",
   "execution_count": 25,
   "metadata": {},
   "outputs": [
    {
     "data": {
      "text/plain": [
       "(100, 100)"
      ]
     },
     "execution_count": 25,
     "metadata": {},
     "output_type": "execute_result"
    }
   ],
   "source": [
    "import cupy as cp\n",
    "\n",
    "cp_data_a = cp.asarray(data_a)\n",
    "cp_data_b = cp.asarray(data_b)\n",
    "\n",
    "cp_mat_c = cp.matmul(cp_data_a, cp_data_b.T)\n",
    "cp_mat_c.shape\n"
   ]
  },
  {
   "cell_type": "markdown",
   "metadata": {},
   "source": [
    "## pyopencl"
   ]
  },
  {
   "cell_type": "code",
   "execution_count": 5,
   "metadata": {},
   "outputs": [
    {
     "name": "stdout",
     "output_type": "stream",
     "text": [
      "[5 6 8]\n"
     ]
    }
   ],
   "source": [
    "import pyopencl as cl\n",
    "import pyopencl.array as cla\n",
    "\n",
    "\n",
    "context = cl.create_some_context()\n",
    "queue = cl.CommandQueue(context)\n",
    "\n",
    "a = cla.to_device(queue, np.asarray([1, 2, 3]))\n",
    "b = cla.to_device(queue, np.asarray([4, 4, 5]))  \n",
    "\n",
    "c = a + b\n",
    "\n",
    "print(c)"
   ]
  },
  {
   "cell_type": "code",
   "execution_count": 6,
   "metadata": {},
   "outputs": [
    {
     "name": "stdout",
     "output_type": "stream",
     "text": [
      "[5 6 8]\n"
     ]
    }
   ],
   "source": [
    "d = cla.empty_like(a)\n",
    "\n",
    "program = cl.Program(context, \"\"\"\n",
    "__kernel void sum(__global const float *a, __global const float *b, __global float *c)\n",
    "{\n",
    "  int i = get_global_id(0);\n",
    "  c[i] = a[i] + b[i];\n",
    "}\"\"\").build()\n",
    "\n",
    "program.sum(queue, a.shape, None, a.data, b.data, d.data)\n",
    "\n",
    "print(d)"
   ]
  },
  {
   "cell_type": "markdown",
   "metadata": {},
   "source": [
    "## Image processing"
   ]
  },
  {
   "cell_type": "code",
   "execution_count": null,
   "metadata": {
    "id": "Ms5LcPlGSdpn"
   },
   "outputs": [],
   "source": [
    "from skimage.data import cells3d\n",
    "\n",
    "stack = cells3d()"
   ]
  },
  {
   "cell_type": "code",
   "execution_count": null,
   "metadata": {
    "colab": {
     "base_uri": "https://localhost:8080/"
    },
    "id": "gKXmXhKZSvfH",
    "outputId": "2b18db3c-2ed6-48e0-8df3-e1ac2fcb8c51"
   },
   "outputs": [],
   "source": [
    "stack.shape"
   ]
  },
  {
   "cell_type": "code",
   "execution_count": null,
   "metadata": {
    "colab": {
     "base_uri": "https://localhost:8080/",
     "height": 314
    },
    "id": "LBcRMyURS1fo",
    "outputId": "2bc635a6-b1ba-40ce-8840-7e00a6ad56af"
   },
   "outputs": [],
   "source": [
    "from skimage.io import imshow\n",
    "\n",
    "imshow(stack[30, 1, :, :])"
   ]
  },
  {
   "cell_type": "code",
   "execution_count": null,
   "metadata": {
    "colab": {
     "base_uri": "https://localhost:8080/"
    },
    "id": "12CVKdAuCQDJ",
    "outputId": "560602c6-bc71-41fa-fa31-5505d00fd5c3"
   },
   "outputs": [],
   "source": [
    "single_channel = stack[:, 1, :, :]\n",
    "single_channel.shape"
   ]
  },
  {
   "cell_type": "code",
   "execution_count": null,
   "metadata": {
    "colab": {
     "base_uri": "https://localhost:8080/",
     "height": 402
    },
    "id": "-8Pgvzw2CjM2",
    "outputId": "635bcb90-694d-4c45-d870-8cc5d9f346e9"
   },
   "outputs": [],
   "source": [
    "import skimage\n",
    "\n",
    "def segment_nuclei(nuclei_image):\n",
    "  input_image = nuclei_image\n",
    "\n",
    "  # binarize all nuclei together\n",
    "  outline_blurred = skimage.filters.gaussian(input_image, sigma=2)\n",
    "  threshold = skimage.filters.threshold_otsu(outline_blurred)\n",
    "  binary = outline_blurred > threshold\n",
    "\n",
    "  # estimate centroids\n",
    "  spot_blurred = skimage.filters.gaussian(input_image, sigma=10)\n",
    "  local_maxima = skimage.feature.peak_local_max(\n",
    "      spot_blurred, \n",
    "      footprint=np.ones((3, 3, 3), dtype=np.bool), \n",
    "      indices=False, \n",
    "      labels=skimage.measure.label(binary)\n",
    "  )\n",
    "\n",
    "  # flood the binary image starting at the centroids\n",
    "  markers = skimage.measure.label(local_maxima)\n",
    "  labels = skimage.segmentation.watershed(-spot_blurred, markers, mask=binary)\n",
    "  \n",
    "  return labels\n",
    "\n",
    "nuclei = segment_nuclei(single_channel)\n",
    "imshow(nuclei.max(axis=0))"
   ]
  },
  {
   "cell_type": "markdown",
   "metadata": {},
   "source": [
    "# CUDA"
   ]
  },
  {
   "cell_type": "code",
   "execution_count": null,
   "metadata": {},
   "outputs": [],
   "source": [
    "import cupy\n",
    "cupy.cuda.runtime.getDeviceProperties(0)['name']"
   ]
  },
  {
   "cell_type": "code",
   "execution_count": null,
   "metadata": {
    "colab": {
     "base_uri": "https://localhost:8080/",
     "height": 333
    },
    "id": "yArld1_WKV_K",
    "outputId": "e9316649-1fbe-49e2-e932-c541d55b1caa"
   },
   "outputs": [],
   "source": [
    "import cucim.skimage as cuskimage\n",
    "\n",
    "def cu_segment_nuclei(nuclei_image):\n",
    "  # send image to GPU\n",
    "  input_image = cupy.asarray(nuclei_image)\n",
    "\n",
    "  # binarize all nuclei together\n",
    "  outline_blurred = cuskimage.filters.gaussian(input_image, sigma=2)\n",
    "  threshold = cuskimage.filters.threshold_otsu(outline_blurred)\n",
    "  binary = outline_blurred > threshold\n",
    "\n",
    "  # estimate centroids\n",
    "  spot_blurred = cuskimage.filters.gaussian(input_image, sigma=10)\n",
    "  local_maxima = cuskimage.feature.peak_local_max(\n",
    "      spot_blurred, \n",
    "      footprint=np.ones((3, 3, 3), dtype=np.bool), \n",
    "      indices=False, \n",
    "      labels=cuskimage.measure.label(binary)\n",
    "  )\n",
    "\n",
    "  # flood the binary image starting at the centroids\n",
    "  markers = cuskimage.measure.label(local_maxima)\n",
    "  labels = cuskimage.segmentation.watershed(-spot_blurred, markers, mask=binary)\n",
    "  \n",
    "  return np.asarray(labels)\n",
    "\n",
    "nuclei = cu_segment_nuclei(single_channel)\n",
    "imshow(nuclei.max(axis=0))"
   ]
  },
  {
   "cell_type": "markdown",
   "metadata": {
    "id": "1JADfsSINrk7"
   },
   "source": [
    "# OpenCL"
   ]
  },
  {
   "cell_type": "markdown",
   "metadata": {},
   "source": [
    "## pyclesperanto"
   ]
  },
  {
   "cell_type": "code",
   "execution_count": null,
   "metadata": {
    "colab": {
     "base_uri": "https://localhost:8080/",
     "height": 887
    },
    "id": "BNUDnC1yX1B0",
    "outputId": "26650524-61c8-49f9-caea-309a09806bc0",
    "scrolled": true
   },
   "outputs": [],
   "source": [
    "!pip install pyclesperanto_prototype"
   ]
  },
  {
   "cell_type": "code",
   "execution_count": 7,
   "metadata": {
    "colab": {
     "base_uri": "https://localhost:8080/"
    },
    "id": "1sp9lx6gFF21",
    "outputId": "725649de-2ca5-4552-cd4b-a6026f57597d"
   },
   "outputs": [
    {
     "data": {
      "text/plain": [
       "<gfx902 on Platform: AMD Accelerated Parallel Processing (2 refs)>"
      ]
     },
     "execution_count": 7,
     "metadata": {},
     "output_type": "execute_result"
    }
   ],
   "source": [
    "import pyclesperanto_prototype as cle\n",
    "cle.get_device()"
   ]
  },
  {
   "cell_type": "code",
   "execution_count": 9,
   "metadata": {},
   "outputs": [
    {
     "ename": "NameError",
     "evalue": "name 'single_channel' is not defined",
     "output_type": "error",
     "traceback": [
      "\u001b[1;31m---------------------------------------------------------------------------\u001b[0m",
      "\u001b[1;31mNameError\u001b[0m                                 Traceback (most recent call last)",
      "\u001b[1;32m<ipython-input-9-fa83add3f6a3>\u001b[0m in \u001b[0;36m<module>\u001b[1;34m\u001b[0m\n\u001b[0;32m     15\u001b[0m   \u001b[1;32mreturn\u001b[0m \u001b[0mlabels\u001b[0m\u001b[1;33m\u001b[0m\u001b[1;33m\u001b[0m\u001b[0m\n\u001b[0;32m     16\u001b[0m \u001b[1;33m\u001b[0m\u001b[0m\n\u001b[1;32m---> 17\u001b[1;33m \u001b[0mnuclei\u001b[0m \u001b[1;33m=\u001b[0m \u001b[0msegment_nuclei\u001b[0m\u001b[1;33m(\u001b[0m\u001b[0msingle_channel\u001b[0m\u001b[1;33m)\u001b[0m\u001b[1;33m\u001b[0m\u001b[1;33m\u001b[0m\u001b[0m\n\u001b[0m\u001b[0;32m     18\u001b[0m \u001b[0mimshow\u001b[0m\u001b[1;33m(\u001b[0m\u001b[0mnuclei\u001b[0m\u001b[1;33m.\u001b[0m\u001b[0mmax\u001b[0m\u001b[1;33m(\u001b[0m\u001b[0maxis\u001b[0m\u001b[1;33m=\u001b[0m\u001b[1;36m0\u001b[0m\u001b[1;33m)\u001b[0m\u001b[1;33m)\u001b[0m\u001b[1;33m\u001b[0m\u001b[1;33m\u001b[0m\u001b[0m\n",
      "\u001b[1;31mNameError\u001b[0m: name 'single_channel' is not defined"
     ]
    }
   ],
   "source": [
    "def segment_nuclei(nuclei_image):\n",
    "  input_image = nuclei_image\n",
    "\n",
    "  # binarize all nuclei together\n",
    "  outline_blurred = cle.gaussian_blur(input_image, sigma_x=2, sigma_y=2, sigma_z=2)\n",
    "  binary = cle.threshold_otsu(outline_blurred)\n",
    "  \n",
    "  # estimate centroids\n",
    "  spot_blurred = cle.gaussian_blur(input_image, sigma_x=10, sigma_y=10, sigma_z=10)\n",
    "  local_maxima = cle.detect_maxima_box(spot_blurred, radius_x=1, radius_y=1, radius_z=1)\n",
    "\n",
    "  # flood the binary image starting at the centroids\n",
    "  labels = cle.masked_voronoi_labeling(local_maxima, binary)\n",
    "  \n",
    "  return labels\n",
    "\n",
    "nuclei = segment_nuclei(single_channel)\n",
    "imshow(nuclei.max(axis=0))"
   ]
  },
  {
   "cell_type": "code",
   "execution_count": 8,
   "metadata": {},
   "outputs": [],
   "source": [
    "cle.masked_voronoi_labeling?"
   ]
  },
  {
   "cell_type": "code",
   "execution_count": null,
   "metadata": {},
   "outputs": [],
   "source": []
  }
 ],
 "metadata": {
  "accelerator": "GPU",
  "colab": {
   "name": "cupy_cucim.ipynb",
   "provenance": []
  },
  "kernelspec": {
   "display_name": "Python 3",
   "language": "python",
   "name": "python3"
  },
  "language_info": {
   "codemirror_mode": {
    "name": "ipython",
    "version": 3
   },
   "file_extension": ".py",
   "mimetype": "text/x-python",
   "name": "python",
   "nbconvert_exporter": "python",
   "pygments_lexer": "ipython3",
   "version": "3.9.4"
  }
 },
 "nbformat": 4,
 "nbformat_minor": 1
}
