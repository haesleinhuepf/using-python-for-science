{
  "nbformat": 4,
  "nbformat_minor": 0,
  "metadata": {
    "accelerator": "GPU",
    "colab": {
      "name": "gpu_libraries.ipynb",
      "provenance": []
    },
    "kernelspec": {
      "display_name": "Python 3",
      "language": "python",
      "name": "python3"
    },
    "language_info": {
      "codemirror_mode": {
        "name": "ipython",
        "version": 3
      },
      "file_extension": ".py",
      "mimetype": "text/x-python",
      "name": "python",
      "nbconvert_exporter": "python",
      "pygments_lexer": "ipython3",
      "version": "3.9.4"
    }
  },
  "cells": [
    {
      "cell_type": "markdown",
      "metadata": {
        "id": "I_SqGquuT7K0"
      },
      "source": [
        "# GPU-libraries\n",
        "Processing large amounts of data, e.g. stored in arrays, can be computational costly. To accelerate processing, graphics processing units (GPUs) can be exploited, for example using [NVidia Compute Unified Device Architecture (CUDA)](https://en.wikipedia.org/wiki/CUDA) and the [Open Computing Language (OpenCL)](https://www.khronos.org/opencl/). For processing images with CUDA, there are a couple of libraries available. We will take a closer look at [cupy](https://cupy.dev/), which brings more general computing capabilities for CUDA compatible GPUs. Furthermore, we will take a look at [pyopencl](https://documen.tician.de/pyopencl/) and [py-clEsperanto](https://github.com/clEsperanto/pyclesperanto_prototype).\n",
        "\n",
        "See also\n",
        "* [StackOverflow: Is it possible to install cupy on google colab?](https://stackoverflow.com/questions/49135065/is-it-possible-to-install-cupy-on-google-colab)\n",
        "* [Tutorial: OpenCL SGEMM tuning for Kepler](https://cnugteren.github.io/tutorial/pages/page1.html)\n",
        "\n",
        "Before we start, we need to install cupy, pyopencl and pyclesperanto it properly. The following commands make this notebook run in Google Colab."
      ]
    },
    {
      "cell_type": "markdown",
      "metadata": {
        "id": "zY7ZNaKWQnqQ",
        "outputId": "51734eaf-fb1e-405f-9859-1948da94b1c7"
      },
      "source": [
        "!curl https://colab.chainer.org/install | sh -\n",
        "\n",
        "!pip install scipy scikit-image cupy-cuda100"
      ]
    },
    {
      "cell_type": "code",
      "metadata": {
        "colab": {
          "base_uri": "https://localhost:8080/"
        },
        "id": "EgPpa_M3iCKs",
        "outputId": "aee08d1a-7251-4e45-92e9-2d5555b09d4c"
      },
      "source": [
        "!curl https://colab.chainer.org/install | sh -\n",
        "\n",
        "!pip install scipy scikit-image cupy-cuda100"
      ],
      "execution_count": 1,
      "outputs": [
        {
          "output_type": "stream",
          "text": [
            "  % Total    % Received % Xferd  Average Speed   Time    Time     Time  Current\n",
            "                                 Dload  Upload   Total   Spent    Left  Speed\n",
            "\r  0     0    0     0    0     0      0      0 --:--:-- --:--:-- --:--:--     0\r100  1580  100  1580    0     0   7181      0 --:--:-- --:--:-- --:--:--  7181\n",
            "+ apt -y -q install cuda-libraries-dev-10-0\n",
            "Reading package lists...\n",
            "Building dependency tree...\n",
            "Reading state information...\n",
            "cuda-libraries-dev-10-0 is already the newest version (10.0.130-1).\n",
            "0 upgraded, 0 newly installed, 0 to remove and 39 not upgraded.\n",
            "+ pip install -q cupy-cuda100  chainer \n",
            "\u001b[K     |████████████████████████████████| 58.9MB 54kB/s \n",
            "\u001b[K     |████████████████████████████████| 1.0MB 48.5MB/s \n",
            "\u001b[?25h  Building wheel for chainer (setup.py) ... \u001b[?25l\u001b[?25hdone\n",
            "+ set +ex\n",
            "Installation succeeded!\n",
            "Requirement already satisfied: scipy in /usr/local/lib/python3.7/dist-packages (1.4.1)\n",
            "Requirement already satisfied: scikit-image in /usr/local/lib/python3.7/dist-packages (0.16.2)\n",
            "Requirement already satisfied: cupy-cuda100 in /usr/local/lib/python3.7/dist-packages (9.2.0)\n",
            "Requirement already satisfied: numpy>=1.13.3 in /usr/local/lib/python3.7/dist-packages (from scipy) (1.19.5)\n",
            "Requirement already satisfied: imageio>=2.3.0 in /usr/local/lib/python3.7/dist-packages (from scikit-image) (2.4.1)\n",
            "Requirement already satisfied: pillow>=4.3.0 in /usr/local/lib/python3.7/dist-packages (from scikit-image) (7.1.2)\n",
            "Requirement already satisfied: PyWavelets>=0.4.0 in /usr/local/lib/python3.7/dist-packages (from scikit-image) (1.1.1)\n",
            "Requirement already satisfied: networkx>=2.0 in /usr/local/lib/python3.7/dist-packages (from scikit-image) (2.5.1)\n",
            "Requirement already satisfied: matplotlib!=3.0.0,>=2.0.0 in /usr/local/lib/python3.7/dist-packages (from scikit-image) (3.2.2)\n",
            "Requirement already satisfied: fastrlock>=0.5 in /usr/local/lib/python3.7/dist-packages (from cupy-cuda100) (0.6)\n",
            "Requirement already satisfied: decorator<5,>=4.3 in /usr/local/lib/python3.7/dist-packages (from networkx>=2.0->scikit-image) (4.4.2)\n",
            "Requirement already satisfied: cycler>=0.10 in /usr/local/lib/python3.7/dist-packages (from matplotlib!=3.0.0,>=2.0.0->scikit-image) (0.10.0)\n",
            "Requirement already satisfied: python-dateutil>=2.1 in /usr/local/lib/python3.7/dist-packages (from matplotlib!=3.0.0,>=2.0.0->scikit-image) (2.8.1)\n",
            "Requirement already satisfied: kiwisolver>=1.0.1 in /usr/local/lib/python3.7/dist-packages (from matplotlib!=3.0.0,>=2.0.0->scikit-image) (1.3.1)\n",
            "Requirement already satisfied: pyparsing!=2.0.4,!=2.1.2,!=2.1.6,>=2.0.1 in /usr/local/lib/python3.7/dist-packages (from matplotlib!=3.0.0,>=2.0.0->scikit-image) (2.4.7)\n",
            "Requirement already satisfied: six in /usr/local/lib/python3.7/dist-packages (from cycler>=0.10->matplotlib!=3.0.0,>=2.0.0->scikit-image) (1.15.0)\n"
          ],
          "name": "stdout"
        }
      ]
    },
    {
      "cell_type": "code",
      "metadata": {
        "colab": {
          "base_uri": "https://localhost:8080/"
        },
        "id": "x_mq3CV6i2yB",
        "outputId": "e6200dd6-a9ef-473a-eb53-dc19d3e232bd"
      },
      "source": [
        "!pip install cucim"
      ],
      "execution_count": 19,
      "outputs": [
        {
          "output_type": "stream",
          "text": [
            "Collecting cucim\n",
            "\u001b[?25l  Downloading https://files.pythonhosted.org/packages/76/c4/d72c4345aa25d36914da9abb1553612eebda491b9e859fb3b8fc3f2fcda8/cucim-21.6.0-py3-none-manylinux2014_x86_64.whl (3.2MB)\n",
            "\u001b[K     |████████████████████████████████| 3.2MB 7.7MB/s \n",
            "\u001b[?25hRequirement already satisfied: click in /usr/local/lib/python3.7/dist-packages (from cucim) (7.1.2)\n",
            "Requirement already satisfied: numpy in /usr/local/lib/python3.7/dist-packages (from cucim) (1.19.5)\n",
            "Installing collected packages: cucim\n",
            "Successfully installed cucim-21.6.0\n"
          ],
          "name": "stdout"
        }
      ]
    },
    {
      "cell_type": "code",
      "metadata": {
        "colab": {
          "base_uri": "https://localhost:8080/"
        },
        "id": "CvxCihaGh6Tl",
        "outputId": "6c683574-d92e-4a27-b4ab-b2e4fd8bb878"
      },
      "source": [
        "!pip install scipy scikit-image"
      ],
      "execution_count": 2,
      "outputs": [
        {
          "output_type": "stream",
          "text": [
            "Requirement already satisfied: scipy in /usr/local/lib/python3.7/dist-packages (1.4.1)\n",
            "Requirement already satisfied: scikit-image in /usr/local/lib/python3.7/dist-packages (0.16.2)\n",
            "Requirement already satisfied: numpy>=1.13.3 in /usr/local/lib/python3.7/dist-packages (from scipy) (1.19.5)\n",
            "Requirement already satisfied: matplotlib!=3.0.0,>=2.0.0 in /usr/local/lib/python3.7/dist-packages (from scikit-image) (3.2.2)\n",
            "Requirement already satisfied: networkx>=2.0 in /usr/local/lib/python3.7/dist-packages (from scikit-image) (2.5.1)\n",
            "Requirement already satisfied: pillow>=4.3.0 in /usr/local/lib/python3.7/dist-packages (from scikit-image) (7.1.2)\n",
            "Requirement already satisfied: imageio>=2.3.0 in /usr/local/lib/python3.7/dist-packages (from scikit-image) (2.4.1)\n",
            "Requirement already satisfied: PyWavelets>=0.4.0 in /usr/local/lib/python3.7/dist-packages (from scikit-image) (1.1.1)\n",
            "Requirement already satisfied: python-dateutil>=2.1 in /usr/local/lib/python3.7/dist-packages (from matplotlib!=3.0.0,>=2.0.0->scikit-image) (2.8.1)\n",
            "Requirement already satisfied: kiwisolver>=1.0.1 in /usr/local/lib/python3.7/dist-packages (from matplotlib!=3.0.0,>=2.0.0->scikit-image) (1.3.1)\n",
            "Requirement already satisfied: pyparsing!=2.0.4,!=2.1.2,!=2.1.6,>=2.0.1 in /usr/local/lib/python3.7/dist-packages (from matplotlib!=3.0.0,>=2.0.0->scikit-image) (2.4.7)\n",
            "Requirement already satisfied: cycler>=0.10 in /usr/local/lib/python3.7/dist-packages (from matplotlib!=3.0.0,>=2.0.0->scikit-image) (0.10.0)\n",
            "Requirement already satisfied: decorator<5,>=4.3 in /usr/local/lib/python3.7/dist-packages (from networkx>=2.0->scikit-image) (4.4.2)\n",
            "Requirement already satisfied: six>=1.5 in /usr/local/lib/python3.7/dist-packages (from python-dateutil>=2.1->matplotlib!=3.0.0,>=2.0.0->scikit-image) (1.15.0)\n"
          ],
          "name": "stdout"
        }
      ]
    },
    {
      "cell_type": "markdown",
      "metadata": {
        "id": "pRQkTviHh6Tm"
      },
      "source": [
        "!pip install cupy-cuda100"
      ]
    },
    {
      "cell_type": "markdown",
      "metadata": {
        "id": "7W3Fr0owh6Tn"
      },
      "source": [
        "!pip install pyopencl"
      ]
    },
    {
      "cell_type": "markdown",
      "metadata": {
        "id": "BNUDnC1yX1B0",
        "outputId": "26650524-61c8-49f9-caea-309a09806bc0",
        "scrolled": true
      },
      "source": [
        "!pip install pyclesperanto_prototype"
      ]
    },
    {
      "cell_type": "code",
      "metadata": {
        "colab": {
          "base_uri": "https://localhost:8080/"
        },
        "id": "5jzXBW1XiFRj",
        "outputId": "551f2d2b-387f-4b86-8c43-63a956e52041"
      },
      "source": [
        "!pip install pyclesperanto_prototype"
      ],
      "execution_count": 3,
      "outputs": [
        {
          "output_type": "stream",
          "text": [
            "Collecting pyclesperanto_prototype\n",
            "\u001b[?25l  Downloading https://files.pythonhosted.org/packages/95/e2/48daa21c03d7ffa7d5d373d026a8f9e0178a5ff02454c596aa520c51c5fa/pyclesperanto_prototype-0.9.5-py3-none-any.whl (567kB)\n",
            "\u001b[K     |████████████████████████████████| 573kB 9.5MB/s \n",
            "\u001b[?25hRequirement already satisfied: matplotlib in /usr/local/lib/python3.7/dist-packages (from pyclesperanto_prototype) (3.2.2)\n",
            "Collecting transforms3d\n",
            "\u001b[?25l  Downloading https://files.pythonhosted.org/packages/b5/f7/e85809168a548a854d7c1331560c27b4f5381698d29c12e57759192b2bc1/transforms3d-0.3.1.tar.gz (62kB)\n",
            "\u001b[K     |████████████████████████████████| 71kB 12.2MB/s \n",
            "\u001b[?25hRequirement already satisfied: numpy!=1.19.4 in /usr/local/lib/python3.7/dist-packages (from pyclesperanto_prototype) (1.19.5)\n",
            "Collecting pyopencl\n",
            "\u001b[?25l  Downloading https://files.pythonhosted.org/packages/c2/32/f24bda9699bcc8f49ee5b6d6f86e0ea9f342560401fe9aefde578367bff8/pyopencl-2021.2.6-cp37-cp37m-manylinux_2_17_x86_64.manylinux2014_x86_64.whl (878kB)\n",
            "\u001b[K     |████████████████████████████████| 880kB 19.0MB/s \n",
            "\u001b[?25hRequirement already satisfied: toolz in /usr/local/lib/python3.7/dist-packages (from pyclesperanto_prototype) (0.11.1)\n",
            "Collecting scikit-image>=0.18.0\n",
            "\u001b[?25l  Downloading https://files.pythonhosted.org/packages/cd/d9/d738fdb4954575fb631b9c7a2eaa59df3ab8b7f3c2fc28a37259a42d8a49/scikit_image-0.18.2-cp37-cp37m-manylinux1_x86_64.whl (29.2MB)\n",
            "\u001b[K     |████████████████████████████████| 29.2MB 104kB/s \n",
            "\u001b[?25hRequirement already satisfied: kiwisolver>=1.0.1 in /usr/local/lib/python3.7/dist-packages (from matplotlib->pyclesperanto_prototype) (1.3.1)\n",
            "Requirement already satisfied: pyparsing!=2.0.4,!=2.1.2,!=2.1.6,>=2.0.1 in /usr/local/lib/python3.7/dist-packages (from matplotlib->pyclesperanto_prototype) (2.4.7)\n",
            "Requirement already satisfied: cycler>=0.10 in /usr/local/lib/python3.7/dist-packages (from matplotlib->pyclesperanto_prototype) (0.10.0)\n",
            "Requirement already satisfied: python-dateutil>=2.1 in /usr/local/lib/python3.7/dist-packages (from matplotlib->pyclesperanto_prototype) (2.8.1)\n",
            "Collecting pytools>=2021.2.7\n",
            "\u001b[?25l  Downloading https://files.pythonhosted.org/packages/52/26/c7ab098ceb4e4e3f0e66e21257a286bb455ea22af7afefbd704d9ccf324c/pytools-2021.2.7.tar.gz (63kB)\n",
            "\u001b[K     |████████████████████████████████| 71kB 11.9MB/s \n",
            "\u001b[?25hRequirement already satisfied: appdirs>=1.4.0 in /usr/local/lib/python3.7/dist-packages (from pyopencl->pyclesperanto_prototype) (1.4.4)\n",
            "Requirement already satisfied: tifffile>=2019.7.26 in /usr/local/lib/python3.7/dist-packages (from scikit-image>=0.18.0->pyclesperanto_prototype) (2021.7.2)\n",
            "Requirement already satisfied: scipy>=1.0.1 in /usr/local/lib/python3.7/dist-packages (from scikit-image>=0.18.0->pyclesperanto_prototype) (1.4.1)\n",
            "Requirement already satisfied: imageio>=2.3.0 in /usr/local/lib/python3.7/dist-packages (from scikit-image>=0.18.0->pyclesperanto_prototype) (2.4.1)\n",
            "Requirement already satisfied: pillow!=7.1.0,!=7.1.1,>=4.3.0 in /usr/local/lib/python3.7/dist-packages (from scikit-image>=0.18.0->pyclesperanto_prototype) (7.1.2)\n",
            "Requirement already satisfied: networkx>=2.0 in /usr/local/lib/python3.7/dist-packages (from scikit-image>=0.18.0->pyclesperanto_prototype) (2.5.1)\n",
            "Requirement already satisfied: PyWavelets>=1.1.1 in /usr/local/lib/python3.7/dist-packages (from scikit-image>=0.18.0->pyclesperanto_prototype) (1.1.1)\n",
            "Requirement already satisfied: six in /usr/local/lib/python3.7/dist-packages (from cycler>=0.10->matplotlib->pyclesperanto_prototype) (1.15.0)\n",
            "Requirement already satisfied: decorator<5,>=4.3 in /usr/local/lib/python3.7/dist-packages (from networkx>=2.0->scikit-image>=0.18.0->pyclesperanto_prototype) (4.4.2)\n",
            "Building wheels for collected packages: transforms3d, pytools\n",
            "  Building wheel for transforms3d (setup.py) ... \u001b[?25l\u001b[?25hdone\n",
            "  Created wheel for transforms3d: filename=transforms3d-0.3.1-cp37-none-any.whl size=59374 sha256=8d5ddd757f564249bef2f6d71f9245941319151dc8c27e0a54d8d42761ff2cb1\n",
            "  Stored in directory: /root/.cache/pip/wheels/3d/3c/84/28d36677f3c760c048bd02b5a547ea0c4027770cc9cdb9af1e\n",
            "  Building wheel for pytools (setup.py) ... \u001b[?25l\u001b[?25hdone\n",
            "  Created wheel for pytools: filename=pytools-2021.2.7-py2.py3-none-any.whl size=60644 sha256=1b4b77b33ea93cf27117ba42b8c575b9cfff5129d9d672f107a8538c1ad443b6\n",
            "  Stored in directory: /root/.cache/pip/wheels/a0/b5/e5/e65d25997fd77729b9aa214645add18688483e48bbcbab6ffc\n",
            "Successfully built transforms3d pytools\n",
            "\u001b[31mERROR: albumentations 0.1.12 has requirement imgaug<0.2.7,>=0.2.5, but you'll have imgaug 0.2.9 which is incompatible.\u001b[0m\n",
            "Installing collected packages: transforms3d, pytools, pyopencl, scikit-image, pyclesperanto-prototype\n",
            "  Found existing installation: scikit-image 0.16.2\n",
            "    Uninstalling scikit-image-0.16.2:\n",
            "      Successfully uninstalled scikit-image-0.16.2\n",
            "Successfully installed pyclesperanto-prototype-0.9.5 pyopencl-2021.2.6 pytools-2021.2.7 scikit-image-0.18.2 transforms3d-0.3.1\n"
          ],
          "name": "stdout"
        }
      ]
    },
    {
      "cell_type": "markdown",
      "metadata": {
        "id": "jMPluaJ1h6Tn"
      },
      "source": [
        "# Scenario: Matrix multiplication\n",
        "As example scenario, we want to multiply two matrices."
      ]
    },
    {
      "cell_type": "code",
      "metadata": {
        "colab": {
          "base_uri": "https://localhost:8080/"
        },
        "id": "u7OW4B7Nh6Tn",
        "outputId": "bf72a409-8ba4-4c38-a79f-944e3eb67b88"
      },
      "source": [
        "import numpy as np\n",
        "\n",
        "# create to arrays\n",
        "np_a = np.random.random([10000,50])\n",
        "np_b = np.random.random([50,10000])\n",
        "\n",
        "np_c = np.matmul(np_a, np_b)\n",
        "np_c.shape"
      ],
      "execution_count": 4,
      "outputs": [
        {
          "output_type": "execute_result",
          "data": {
            "text/plain": [
              "(10000, 10000)"
            ]
          },
          "metadata": {
            "tags": []
          },
          "execution_count": 4
        }
      ]
    },
    {
      "cell_type": "markdown",
      "metadata": {
        "id": "1O8cDlIah6To"
      },
      "source": [
        "[Cupy](https://cupy.dev/) is a python library for GPU-accelerated computing using [CUDA](https://en.wikipedia.org/wiki/CUDA). Its application programming interface (API) aims being compatible with the numpy API. Thus, the commands should work the same. We just need to convert our numpy arrays into cupy arrays first."
      ]
    },
    {
      "cell_type": "code",
      "metadata": {
        "colab": {
          "base_uri": "https://localhost:8080/"
        },
        "id": "UO-GNnmYh6To",
        "outputId": "b5650f47-f731-465a-8414-679219919cec"
      },
      "source": [
        "import cupy as cp\n",
        "\n",
        "# transfer data to GPU memory\n",
        "cp_a = cp.asarray(np_a)\n",
        "cp_b = cp.asarray(np_b)\n",
        "\n",
        "cp_c = cp.matmul(cp_a, cp_b)\n",
        "cp_c.shape"
      ],
      "execution_count": 5,
      "outputs": [
        {
          "output_type": "execute_result",
          "data": {
            "text/plain": [
              "(10000, 10000)"
            ]
          },
          "metadata": {
            "tags": []
          },
          "execution_count": 5
        }
      ]
    },
    {
      "cell_type": "markdown",
      "metadata": {
        "id": "aRC_4ZFZh6To"
      },
      "source": [
        "## pyopencl\n",
        "[pyopencl](https://documen.tician.de/pyopencl/) is a python library for GPU-accelerated scientific computing based on the [Open Computing Language](https://www.khronos.org/opencl/)."
      ]
    },
    {
      "cell_type": "code",
      "metadata": {
        "colab": {
          "base_uri": "https://localhost:8080/"
        },
        "id": "t2Jy7VFMh6Tp",
        "outputId": "4a0a858f-079d-4895-f6e8-40b2f47e91ee"
      },
      "source": [
        "import pyopencl as cl\n",
        "import pyopencl.array as cla\n",
        "\n",
        "# initialize GPU driver and create a queue for running operations.\n",
        "context = cl.create_some_context()\n",
        "queue = cl.CommandQueue(context)\n",
        "\n",
        "# copy data to GPU memory\n",
        "cl_a = cla.to_device(queue, np.asarray([[1, 2, 3]]))\n",
        "cl_b = cla.to_device(queue, np.asarray([[4, 4, 5]]))  \n",
        "\n",
        "# execute operations on the data\n",
        "cl_c = cl_a + cl_b\n",
        "\n",
        "# show result\n",
        "cl_c"
      ],
      "execution_count": 6,
      "outputs": [
        {
          "output_type": "execute_result",
          "data": {
            "text/plain": [
              "cl.Array([[5, 6, 8]])"
            ]
          },
          "metadata": {
            "tags": []
          },
          "execution_count": 6
        }
      ]
    },
    {
      "cell_type": "markdown",
      "metadata": {
        "id": "1YZF1FJBh6Tp"
      },
      "source": [
        "Thus, simple mathematical operations are supported in pyopencl, furthemore one can implement more complex operations by providing OpenCL-code. The following example executes the same operation as above but using custom OpenCL code."
      ]
    },
    {
      "cell_type": "code",
      "metadata": {
        "colab": {
          "base_uri": "https://localhost:8080/"
        },
        "id": "d-YSOlyjh6Tp",
        "outputId": "5e4d0537-325d-410b-adf4-4eb34fa2ed6e"
      },
      "source": [
        "cl_d = cla.empty_like(cl_a)\n",
        "\n",
        "program = cl.Program(context, \"\"\"\n",
        "__kernel void sum(__global const float *a, __global const float *b, __global float *c)\n",
        "{\n",
        "  int i = get_global_id(1);\n",
        "  c[i] = a[i] + b[i];\n",
        "}\"\"\").build()\n",
        "\n",
        "program.sum(queue, cl_a.shape, None, cl_a.data, cl_b.data, cl_d.data)\n",
        "\n",
        "print(cl_d)"
      ],
      "execution_count": 7,
      "outputs": [
        {
          "output_type": "stream",
          "text": [
            "[[5 6 0]]\n"
          ],
          "name": "stdout"
        }
      ]
    },
    {
      "cell_type": "markdown",
      "metadata": {
        "id": "no62wA8Fh6Tp"
      },
      "source": [
        "## pyclesperanto\n",
        "As implementing custom OpenCL code for operations such as matrix multiplication is a bit cumbersome, other libraries such as [pyclesperanto](https://github.com/clEsperanto/pyclesperanto_prototype) ship with OpenCL code for such common operations."
      ]
    },
    {
      "cell_type": "code",
      "metadata": {
        "colab": {
          "base_uri": "https://localhost:8080/"
        },
        "id": "wGBd6AEOh6Tq",
        "outputId": "741e537f-a09d-49a2-fc47-385206271d81"
      },
      "source": [
        "import pyclesperanto_prototype as cle\n",
        "\n",
        "# to measure kernel execution duration properly, we need to set this flag. It will slow down exection of workflows a bit though\n",
        "cle.set_wait_for_kernel_finish(True)\n",
        "\n",
        "cle.select_device(\"RTX\")"
      ],
      "execution_count": 8,
      "outputs": [
        {
          "output_type": "execute_result",
          "data": {
            "text/plain": [
              "<Tesla T4 on Platform: NVIDIA CUDA (1 refs)>"
            ]
          },
          "metadata": {
            "tags": []
          },
          "execution_count": 8
        }
      ]
    },
    {
      "cell_type": "code",
      "metadata": {
        "colab": {
          "base_uri": "https://localhost:8080/",
          "height": 180
        },
        "id": "YCxLs9CDh6Tq",
        "outputId": "55adba3e-ff82-40bc-f7f5-75591a316f22"
      },
      "source": [
        "cl_c = cle.multiply_matrix(np_a, np_b)\n",
        "cl_c.shape"
      ],
      "execution_count": 9,
      "outputs": [
        {
          "output_type": "error",
          "ename": "TypeError",
          "evalue": "ignored",
          "traceback": [
            "\u001b[0;31m---------------------------------------------------------------------------\u001b[0m",
            "\u001b[0;31mTypeError\u001b[0m                                 Traceback (most recent call last)",
            "\u001b[0;32m<ipython-input-9-5edae3fbbe79>\u001b[0m in \u001b[0;36m<module>\u001b[0;34m()\u001b[0m\n\u001b[0;32m----> 1\u001b[0;31m \u001b[0mcl_c\u001b[0m \u001b[0;34m=\u001b[0m \u001b[0mcle\u001b[0m\u001b[0;34m.\u001b[0m\u001b[0mmultiply_matrix\u001b[0m\u001b[0;34m(\u001b[0m\u001b[0mnp_a\u001b[0m\u001b[0;34m,\u001b[0m \u001b[0mnp_b\u001b[0m\u001b[0;34m)\u001b[0m\u001b[0;34m\u001b[0m\u001b[0;34m\u001b[0m\u001b[0m\n\u001b[0m\u001b[1;32m      2\u001b[0m \u001b[0mcl_c\u001b[0m\u001b[0;34m.\u001b[0m\u001b[0mshape\u001b[0m\u001b[0;34m\u001b[0m\u001b[0;34m\u001b[0m\u001b[0m\n",
            "\u001b[0;31mTypeError\u001b[0m: multiply_matrix() missing 1 required positional argument: 'matrix_destination'"
          ]
        }
      ]
    },
    {
      "cell_type": "markdown",
      "metadata": {
        "id": "kUFbxI3Xh6Tq"
      },
      "source": [
        "As good scientists, we should also check if the results of numpy `np_c`, cupy `cp_c` and clesperanto `cl_c` are the same. Therefore we check if the results of the two GPU libraries are close to the result of numpy as reference."
      ]
    },
    {
      "cell_type": "code",
      "metadata": {
        "id": "--VgUDvzh6Tq"
      },
      "source": [
        "print(np.allclose(np_c, cp_c))\n",
        "print(np.allclose(np_c, cl_c))"
      ],
      "execution_count": null,
      "outputs": []
    },
    {
      "cell_type": "markdown",
      "metadata": {
        "id": "nr9cESLah6Tq"
      },
      "source": [
        "## Benchmarking\n",
        "We now know how to multiply matrices using numpy, cupy and clesperanto. To figure out which of the approaches is the most efficient, we should measure time passing by while executing these operations. We execute them multiple times to avoid misinterpreting individual time measurements influenced by stochastical variation and effects such as the warm-up effect. The warm-up effect results from just-in-time compilation. Some libraries compile device dependent code before running operations. This is only done once and costs some additional time while the first execution of an operation."
      ]
    },
    {
      "cell_type": "code",
      "metadata": {
        "id": "bFW_sWPUh6Tr"
      },
      "source": [
        "import time"
      ],
      "execution_count": 10,
      "outputs": []
    },
    {
      "cell_type": "code",
      "metadata": {
        "colab": {
          "base_uri": "https://localhost:8080/"
        },
        "id": "IdzxnGc3h6Tr",
        "outputId": "e4be5c29-e1a9-4636-a56e-862dd3e2870a"
      },
      "source": [
        "for i in range(0, 3):\n",
        "    start_time = time.time()\n",
        "    \n",
        "    np_c = np.matmul(np_a, np_b)\n",
        "    \n",
        "    print(\"Matrix multiplication took \" + str(time.time() - start_time) + \" s using numpy\")"
      ],
      "execution_count": 11,
      "outputs": [
        {
          "output_type": "stream",
          "text": [
            "Matrix multiplication took 0.46183276176452637 s using numpy\n",
            "Matrix multiplication took 0.3452472686767578 s using numpy\n",
            "Matrix multiplication took 0.34299349784851074 s using numpy\n"
          ],
          "name": "stdout"
        }
      ]
    },
    {
      "cell_type": "code",
      "metadata": {
        "colab": {
          "base_uri": "https://localhost:8080/"
        },
        "id": "hU58TEXlh6Tr",
        "outputId": "e40641a8-ed48-4104-d1ca-567d7aec47fb"
      },
      "source": [
        "import cupy\n",
        "for i in range(0, 3):\n",
        "    cp_a = cp.asarray(np_a)\n",
        "    cp_b = cp.asarray(np_b)\n",
        "    \n",
        "    start_time = time.time()\n",
        "    \n",
        "    cp_c = cp.matmul(cp_a, cp_b)\n",
        "    \n",
        "    cupy.cuda.stream.get_current_stream().synchronize() # we need to wait here to measure time properly\n",
        "    \n",
        "    print(\"Matrix multiplication took \" + str(time.time() - start_time) + \" s using cupy\")\n",
        "    "
      ],
      "execution_count": 13,
      "outputs": [
        {
          "output_type": "stream",
          "text": [
            "Matrix multiplication took 0.13181328773498535 s using cupy\n",
            "Matrix multiplication took 0.09323310852050781 s using cupy\n",
            "Matrix multiplication took 0.060788869857788086 s using cupy\n"
          ],
          "name": "stdout"
        }
      ]
    },
    {
      "cell_type": "code",
      "metadata": {
        "id": "j7BEoWNVh6Ts",
        "outputId": "fc33ee31-0880-429e-c839-c26e156ed6fe"
      },
      "source": [
        "for i in range(0, 3):\n",
        "   \n",
        "    start_time = time.time()\n",
        "    \n",
        "    cl_c = cle.multiply_matrix(np_a, np_b)\n",
        "    \n",
        "    print(\"Matrix multiplication took \" + str(time.time() - start_time) + \" s using clesperanto\")"
      ],
      "execution_count": null,
      "outputs": [
        {
          "output_type": "stream",
          "text": [
            "Matrix multiplication took 0.1200263500213623 s using clesperanto\n",
            "Matrix multiplication took 0.1215360164642334 s using clesperanto\n",
            "Matrix multiplication took 0.12026429176330566 s using clesperanto\n"
          ],
          "name": "stdout"
        }
      ]
    },
    {
      "cell_type": "markdown",
      "metadata": {
        "id": "5fZSyhSoh6Ts"
      },
      "source": [
        "GPU-accelerated code can perform faster if you avoid allocating memory, especially in loops. Furthermore, if memory transfer to GPU can be avoided, that's an additional plus. In the following example, we transfer the data to the GPU before the loop and for the result-output, we store the data in the same memory block after the first execution."
      ]
    },
    {
      "cell_type": "code",
      "metadata": {
        "id": "dqshiJ1jh6Ts",
        "outputId": "e4047306-adf0-46ad-a81f-ba156554d116"
      },
      "source": [
        "cl_a = cle.asarray(np_a)\n",
        "cl_b = cle.asarray(np_b)\n",
        "cl_c = None\n",
        "\n",
        "for i in range(0, 3):\n",
        "   \n",
        "    start_time = time.time()\n",
        "    \n",
        "    cl_c = cle.multiply_matrix(cl_a, cl_b, cl_c)\n",
        "    \n",
        "    print(\"Matrix multiplication took \" + str(time.time() - start_time) + \" s using clesperanto\")"
      ],
      "execution_count": null,
      "outputs": [
        {
          "output_type": "stream",
          "text": [
            "Matrix multiplication took 0.11375856399536133 s using clesperanto\n",
            "Matrix multiplication took 0.08802008628845215 s using clesperanto\n",
            "Matrix multiplication took 0.08801603317260742 s using clesperanto\n"
          ],
          "name": "stdout"
        }
      ]
    },
    {
      "cell_type": "markdown",
      "metadata": {
        "id": "Rif-W0svh6Ts"
      },
      "source": [
        "## Image processing\n",
        "In image processing, we typically deal with large matrices, a.k.a. images. In the life sciences, we often work with three dimensional images. Thus, the utility of GPU-acceleration for 3D image processing is obvious.\n",
        "In the following example, we will process a three dimensional image to segment cells. This involves algorithms such as thresholding, watershed and connected component labeling."
      ]
    },
    {
      "cell_type": "code",
      "metadata": {
        "id": "Ms5LcPlGSdpn",
        "colab": {
          "base_uri": "https://localhost:8080/"
        },
        "outputId": "820602a6-852d-4bfb-f74f-4879e6587a83"
      },
      "source": [
        "from skimage.data import cells3d\n",
        "\n",
        "stack = cells3d()"
      ],
      "execution_count": 14,
      "outputs": [
        {
          "output_type": "stream",
          "text": [
            "Downloading file 'data/cells3d.tif' from 'https://gitlab.com/scikit-image/data/-/raw/master/cells3d.tif' to '/root/.cache/scikit-image/0.18.2'.\n"
          ],
          "name": "stderr"
        }
      ]
    },
    {
      "cell_type": "code",
      "metadata": {
        "colab": {
          "base_uri": "https://localhost:8080/"
        },
        "id": "gKXmXhKZSvfH",
        "outputId": "3153076d-89e2-4bf5-e647-bccac66c5ba9"
      },
      "source": [
        "stack.shape"
      ],
      "execution_count": 15,
      "outputs": [
        {
          "output_type": "execute_result",
          "data": {
            "text/plain": [
              "(60, 2, 256, 256)"
            ]
          },
          "metadata": {
            "tags": []
          },
          "execution_count": 15
        }
      ]
    },
    {
      "cell_type": "code",
      "metadata": {
        "colab": {
          "base_uri": "https://localhost:8080/",
          "height": 314
        },
        "id": "LBcRMyURS1fo",
        "outputId": "c2000a62-9b0a-4a04-ed20-b8011862cb64"
      },
      "source": [
        "from skimage.io import imshow\n",
        "\n",
        "imshow(stack[30, 1, :, :])"
      ],
      "execution_count": 16,
      "outputs": [
        {
          "output_type": "execute_result",
          "data": {
            "text/plain": [
              "<matplotlib.image.AxesImage at 0x7f96be488d10>"
            ]
          },
          "metadata": {
            "tags": []
          },
          "execution_count": 16
        },
        {
          "output_type": "display_data",
          "data": {
            "image/png": "[encoded data removed]",
            "text/plain": [
              "<Figure size 432x288 with 1 Axes>"
            ]
          },
          "metadata": {
            "tags": [],
            "needs_background": "light"
          }
        }
      ]
    },
    {
      "cell_type": "code",
      "metadata": {
        "colab": {
          "base_uri": "https://localhost:8080/"
        },
        "id": "12CVKdAuCQDJ",
        "outputId": "729d9605-06cb-4ba9-ea48-a7bb12074ab8"
      },
      "source": [
        "single_channel = stack[:, 1, :, :]\n",
        "single_channel.shape"
      ],
      "execution_count": 17,
      "outputs": [
        {
          "output_type": "execute_result",
          "data": {
            "text/plain": [
              "(60, 256, 256)"
            ]
          },
          "metadata": {
            "tags": []
          },
          "execution_count": 17
        }
      ]
    },
    {
      "cell_type": "code",
      "metadata": {
        "colab": {
          "base_uri": "https://localhost:8080/",
          "height": 385
        },
        "id": "-8Pgvzw2CjM2",
        "outputId": "ee4f30c0-39ae-458a-e2fe-7bddf4a0406d"
      },
      "source": [
        "import skimage\n",
        "from skimage import filters, segmentation\n",
        "\n",
        "def np_segment_nuclei(nuclei_image):\n",
        "  input_image = nuclei_image\n",
        "\n",
        "  # binarize all nuclei together\n",
        "  outline_blurred = skimage.filters.gaussian(input_image, sigma=2)\n",
        "  threshold = skimage.filters.threshold_otsu(outline_blurred)\n",
        "  binary = outline_blurred > threshold\n",
        "\n",
        "  # estimate centroids\n",
        "  spot_blurred = skimage.filters.gaussian(input_image, sigma=10)\n",
        "  local_maxima = skimage.feature.peak_local_max(\n",
        "      spot_blurred, \n",
        "      footprint=np.ones((3, 3, 3), dtype=np.bool), \n",
        "      indices=False, \n",
        "      labels=skimage.measure.label(binary)\n",
        "  )\n",
        "\n",
        "  # flood the binary image starting at the centroids\n",
        "  markers = skimage.measure.label(local_maxima)\n",
        "  labels = skimage.segmentation.watershed(-spot_blurred, markers, mask=binary)\n",
        "  \n",
        "  return labels\n",
        "\n",
        "nuclei = np_segment_nuclei(single_channel)\n",
        "imshow(nuclei.max(axis=0))"
      ],
      "execution_count": 18,
      "outputs": [
        {
          "output_type": "stream",
          "text": [
            "/usr/local/lib/python3.7/dist-packages/ipykernel_launcher.py:18: FutureWarning: indices argument is deprecated and will be removed in version 0.20. To avoid this warning, please do not use the indices argument. Please see peak_local_max documentation for more details.\n",
            "/usr/local/lib/python3.7/dist-packages/skimage/io/_plugins/matplotlib_plugin.py:150: UserWarning: Low image data range; displaying image with stretched contrast.\n",
            "  lo, hi, cmap = _get_display_range(image)\n"
          ],
          "name": "stderr"
        },
        {
          "output_type": "execute_result",
          "data": {
            "text/plain": [
              "<matplotlib.image.AxesImage at 0x7f96547fbc50>"
            ]
          },
          "metadata": {
            "tags": []
          },
          "execution_count": 18
        },
        {
          "output_type": "display_data",
          "data": {
            "image/png": "[encoded data removed]",
            "text/plain": [
              "<Figure size 432x288 with 2 Axes>"
            ]
          },
          "metadata": {
            "tags": [],
            "needs_background": "light"
          }
        }
      ]
    },
    {
      "cell_type": "markdown",
      "metadata": {
        "id": "ojhnmVlEh6Tt"
      },
      "source": [
        "# CUDA"
      ]
    },
    {
      "cell_type": "code",
      "metadata": {
        "id": "ct1i4jUCh6Tu"
      },
      "source": [
        "import cupy"
      ],
      "execution_count": 20,
      "outputs": []
    },
    {
      "cell_type": "code",
      "metadata": {
        "colab": {
          "base_uri": "https://localhost:8080/",
          "height": 370
        },
        "id": "yArld1_WKV_K",
        "outputId": "4381e186-9da7-4ac4-a310-9b9985461023"
      },
      "source": [
        "import cucim.skimage as cuskimage\n",
        "from cucim.skimage import filters, segmentation, feature\n",
        "\n",
        "def cu_segment_nuclei(nuclei_image):\n",
        "  # send image to GPU\n",
        "  input_image = cupy.asarray(nuclei_image)\n",
        "\n",
        "  # binarize all nuclei together\n",
        "  outline_blurred = cuskimage.filters.gaussian(input_image, sigma=2)\n",
        "  threshold = cuskimage.filters.threshold_otsu(outline_blurred)\n",
        "  binary = outline_blurred > threshold\n",
        "\n",
        "  # estimate centroids\n",
        "  spot_blurred = cuskimage.filters.gaussian(input_image, sigma=10)\n",
        "  local_maxima = cuskimage.feature.peak_local_max(\n",
        "      spot_blurred, \n",
        "      footprint=np.ones((3, 3, 3), dtype=np.bool), \n",
        "      indices=False, \n",
        "      labels=cuskimage.measure.label(binary)\n",
        "  )\n",
        "\n",
        "  # flood the binary image starting at the centroids\n",
        "  markers = cuskimage.measure.label(local_maxima)\n",
        "  labels = cuskimage.segmentation.watershed(-spot_blurred, markers, mask=binary)\n",
        "  \n",
        "  return np.asarray(labels)\n",
        "\n",
        "nuclei = cu_segment_nuclei(single_channel)\n",
        "imshow(nuclei.max(axis=0))"
      ],
      "execution_count": 23,
      "outputs": [
        {
          "output_type": "stream",
          "text": [
            "/usr/local/lib/python3.7/dist-packages/ipykernel_launcher.py:19: FutureWarning: indices argument is deprecated and will be removed in version 0.20. To avoid this warning, please do not use the indices argument. Please see peak_local_max documentation for more details.\n"
          ],
          "name": "stderr"
        },
        {
          "output_type": "error",
          "ename": "AttributeError",
          "evalue": "ignored",
          "traceback": [
            "\u001b[0;31m---------------------------------------------------------------------------\u001b[0m",
            "\u001b[0;31mAttributeError\u001b[0m                            Traceback (most recent call last)",
            "\u001b[0;32m<ipython-input-23-1e475c297809>\u001b[0m in \u001b[0;36m<module>\u001b[0;34m()\u001b[0m\n\u001b[1;32m     26\u001b[0m   \u001b[0;32mreturn\u001b[0m \u001b[0mnp\u001b[0m\u001b[0;34m.\u001b[0m\u001b[0masarray\u001b[0m\u001b[0;34m(\u001b[0m\u001b[0mlabels\u001b[0m\u001b[0;34m)\u001b[0m\u001b[0;34m\u001b[0m\u001b[0;34m\u001b[0m\u001b[0m\n\u001b[1;32m     27\u001b[0m \u001b[0;34m\u001b[0m\u001b[0m\n\u001b[0;32m---> 28\u001b[0;31m \u001b[0mnuclei\u001b[0m \u001b[0;34m=\u001b[0m \u001b[0mcu_segment_nuclei\u001b[0m\u001b[0;34m(\u001b[0m\u001b[0msingle_channel\u001b[0m\u001b[0;34m)\u001b[0m\u001b[0;34m\u001b[0m\u001b[0;34m\u001b[0m\u001b[0m\n\u001b[0m\u001b[1;32m     29\u001b[0m \u001b[0mimshow\u001b[0m\u001b[0;34m(\u001b[0m\u001b[0mnuclei\u001b[0m\u001b[0;34m.\u001b[0m\u001b[0mmax\u001b[0m\u001b[0;34m(\u001b[0m\u001b[0maxis\u001b[0m\u001b[0;34m=\u001b[0m\u001b[0;36m0\u001b[0m\u001b[0;34m)\u001b[0m\u001b[0;34m)\u001b[0m\u001b[0;34m\u001b[0m\u001b[0;34m\u001b[0m\u001b[0m\n",
            "\u001b[0;32m<ipython-input-23-1e475c297809>\u001b[0m in \u001b[0;36mcu_segment_nuclei\u001b[0;34m(nuclei_image)\u001b[0m\n\u001b[1;32m     22\u001b[0m   \u001b[0;31m# flood the binary image starting at the centroids\u001b[0m\u001b[0;34m\u001b[0m\u001b[0;34m\u001b[0m\u001b[0;34m\u001b[0m\u001b[0m\n\u001b[1;32m     23\u001b[0m   \u001b[0mmarkers\u001b[0m \u001b[0;34m=\u001b[0m \u001b[0mcuskimage\u001b[0m\u001b[0;34m.\u001b[0m\u001b[0mmeasure\u001b[0m\u001b[0;34m.\u001b[0m\u001b[0mlabel\u001b[0m\u001b[0;34m(\u001b[0m\u001b[0mlocal_maxima\u001b[0m\u001b[0;34m)\u001b[0m\u001b[0;34m\u001b[0m\u001b[0;34m\u001b[0m\u001b[0m\n\u001b[0;32m---> 24\u001b[0;31m   \u001b[0mlabels\u001b[0m \u001b[0;34m=\u001b[0m \u001b[0mcuskimage\u001b[0m\u001b[0;34m.\u001b[0m\u001b[0msegmentation\u001b[0m\u001b[0;34m.\u001b[0m\u001b[0mwatershed\u001b[0m\u001b[0;34m(\u001b[0m\u001b[0;34m-\u001b[0m\u001b[0mspot_blurred\u001b[0m\u001b[0;34m,\u001b[0m \u001b[0mmarkers\u001b[0m\u001b[0;34m,\u001b[0m \u001b[0mmask\u001b[0m\u001b[0;34m=\u001b[0m\u001b[0mbinary\u001b[0m\u001b[0;34m)\u001b[0m\u001b[0;34m\u001b[0m\u001b[0;34m\u001b[0m\u001b[0m\n\u001b[0m\u001b[1;32m     25\u001b[0m \u001b[0;34m\u001b[0m\u001b[0m\n\u001b[1;32m     26\u001b[0m   \u001b[0;32mreturn\u001b[0m \u001b[0mnp\u001b[0m\u001b[0;34m.\u001b[0m\u001b[0masarray\u001b[0m\u001b[0;34m(\u001b[0m\u001b[0mlabels\u001b[0m\u001b[0;34m)\u001b[0m\u001b[0;34m\u001b[0m\u001b[0;34m\u001b[0m\u001b[0m\n",
            "\u001b[0;31mAttributeError\u001b[0m: module 'cucim.skimage.segmentation' has no attribute 'watershed'"
          ]
        }
      ]
    },
    {
      "cell_type": "markdown",
      "metadata": {
        "id": "Y5YnpUM-h6Tu"
      },
      "source": [
        "## pyclesperanto"
      ]
    },
    {
      "cell_type": "code",
      "metadata": {
        "colab": {
          "base_uri": "https://localhost:8080/"
        },
        "id": "1sp9lx6gFF21",
        "outputId": "3a0fbc2c-5ce0-45fd-8a40-e93f38f47801"
      },
      "source": [
        "import pyclesperanto_prototype as cle\n",
        "cle.get_device()"
      ],
      "execution_count": 24,
      "outputs": [
        {
          "output_type": "execute_result",
          "data": {
            "text/plain": [
              "<Tesla T4 on Platform: NVIDIA CUDA (1 refs)>"
            ]
          },
          "metadata": {
            "tags": []
          },
          "execution_count": 24
        }
      ]
    },
    {
      "cell_type": "code",
      "metadata": {
        "colab": {
          "base_uri": "https://localhost:8080/",
          "height": 368
        },
        "id": "_hYAmR7yh6Tu",
        "outputId": "56f9222a-3041-47ea-bda1-36df7340bde7"
      },
      "source": [
        "def cl_segment_nuclei(nuclei_image):\n",
        "  input_image = nuclei_image\n",
        "\n",
        "  # binarize all nuclei together\n",
        "  outline_blurred = cle.gaussian_blur(input_image, sigma_x=2, sigma_y=2, sigma_z=2)\n",
        "  binary = cle.threshold_otsu(outline_blurred)\n",
        "  \n",
        "  # estimate centroids\n",
        "  spot_blurred = cle.gaussian_blur(input_image, sigma_x=10, sigma_y=10, sigma_z=10)\n",
        "  local_maxima = cle.detect_maxima_box(spot_blurred, radius_x=1, radius_y=1, radius_z=1)\n",
        "\n",
        "  # flood the binary image starting at the centroids\n",
        "  labels = cle.masked_voronoi_labeling(local_maxima, binary)\n",
        "  \n",
        "  return labels\n",
        "\n",
        "nuclei = cl_segment_nuclei(single_channel)\n",
        "imshow(nuclei.max(axis=0))"
      ],
      "execution_count": 25,
      "outputs": [
        {
          "output_type": "stream",
          "text": [
            "/usr/local/lib/python3.7/dist-packages/skimage/io/_plugins/matplotlib_plugin.py:150: UserWarning: Float image out of standard range; displaying image with stretched contrast.\n",
            "  lo, hi, cmap = _get_display_range(image)\n"
          ],
          "name": "stderr"
        },
        {
          "output_type": "execute_result",
          "data": {
            "text/plain": [
              "<matplotlib.image.AxesImage at 0x7f96d1fd1d10>"
            ]
          },
          "metadata": {
            "tags": []
          },
          "execution_count": 25
        },
        {
          "output_type": "display_data",
          "data": {
            "image/png": "[encoded data removed]",
            "text/plain": [
              "<Figure size 432x288 with 2 Axes>"
            ]
          },
          "metadata": {
            "tags": [],
            "needs_background": "light"
          }
        }
      ]
    },
    {
      "cell_type": "markdown",
      "metadata": {
        "id": "zvV8vlg0h6Tv"
      },
      "source": [
        "As clesperanto is developed by life scientists, there is a method built-in doing pretty much the same as shown above: [Voronoi-Otsu-Labeling](https://nbviewer.jupyter.org/github/clEsperanto/pyclesperanto_prototype/tree/master/demo/segmentation/voronoi_otsu_labeling.ipynb)."
      ]
    },
    {
      "cell_type": "code",
      "metadata": {
        "colab": {
          "base_uri": "https://localhost:8080/",
          "height": 368
        },
        "id": "v6GoXsBsh6Tv",
        "outputId": "6a8f94dc-ea84-40e4-ff7c-a9ed631eb06a"
      },
      "source": [
        "\n",
        "nuclei = cle.voronoi_otsu_labeling(single_channel, spot_sigma=10, outline_sigma=2)\n",
        "\n",
        "imshow(nuclei.max(axis=0))"
      ],
      "execution_count": 26,
      "outputs": [
        {
          "output_type": "stream",
          "text": [
            "/usr/local/lib/python3.7/dist-packages/skimage/io/_plugins/matplotlib_plugin.py:150: UserWarning: Float image out of standard range; displaying image with stretched contrast.\n",
            "  lo, hi, cmap = _get_display_range(image)\n"
          ],
          "name": "stderr"
        },
        {
          "output_type": "execute_result",
          "data": {
            "text/plain": [
              "<matplotlib.image.AxesImage at 0x7f965427ef90>"
            ]
          },
          "metadata": {
            "tags": []
          },
          "execution_count": 26
        },
        {
          "output_type": "display_data",
          "data": {
            "image/png": "[encoded data removed]",
            "text/plain": [
              "<Figure size 432x288 with 2 Axes>"
            ]
          },
          "metadata": {
            "tags": [],
            "needs_background": "light"
          }
        }
      ]
    },
    {
      "cell_type": "markdown",
      "metadata": {
        "id": "9dZ7ZZRjh6Tv"
      },
      "source": [
        "## Benchmarking\n",
        "As mentioned above, we will benchmark those algorithms to compare performance."
      ]
    },
    {
      "cell_type": "code",
      "metadata": {
        "id": "sueO3Oyvh6Tv",
        "outputId": "db7ff2ec-9ebb-4f0c-9baa-0bf1894054c9"
      },
      "source": [
        "for i in range(0, 3):\n",
        "    start_time = time.time()\n",
        "    \n",
        "    nuclei = np_segment_nuclei(single_channel)\n",
        "    \n",
        "    print(\"Nuclei segmentation took \" + str(time.time() - start_time) + \" s using numpy\")"
      ],
      "execution_count": null,
      "outputs": [
        {
          "output_type": "stream",
          "text": [
            "<ipython-input-25-98a7a69c285d>:14: FutureWarning: indices argument is deprecated and will be removed in version 0.20. To avoid this warning, please do not use the indices argument. Please see peak_local_max documentation for more details.\n",
            "  local_maxima = skimage.feature.peak_local_max(\n"
          ],
          "name": "stderr"
        },
        {
          "output_type": "stream",
          "text": [
            "Nuclei segmentation took 1.0597450733184814 s using numpy\n",
            "Nuclei segmentation took 1.0552396774291992 s using numpy\n",
            "Nuclei segmentation took 1.0459222793579102 s using numpy\n"
          ],
          "name": "stdout"
        }
      ]
    },
    {
      "cell_type": "code",
      "metadata": {
        "colab": {
          "base_uri": "https://localhost:8080/"
        },
        "id": "VqmsohAmh6Tv",
        "outputId": "867559af-4f3d-4be6-d9c1-05797b6a3366"
      },
      "source": [
        "for i in range(0, 3):\n",
        "   \n",
        "    start_time = time.time()\n",
        "    \n",
        "    nuclei = cl_segment_nuclei(single_channel)\n",
        "    \n",
        "    print(\"Nuclei segmentation took \" + str(time.time() - start_time) + \" s using clesperanto\")"
      ],
      "execution_count": 27,
      "outputs": [
        {
          "output_type": "stream",
          "text": [
            "Nuclei segmentation took 0.22425580024719238 s using clesperanto\n",
            "Nuclei segmentation took 0.22054791450500488 s using clesperanto\n",
            "Nuclei segmentation took 0.22426962852478027 s using clesperanto\n"
          ],
          "name": "stdout"
        }
      ]
    },
    {
      "cell_type": "code",
      "metadata": {
        "colab": {
          "base_uri": "https://localhost:8080/"
        },
        "id": "dFVGsnjijPeV",
        "outputId": "83e749ab-a872-4e14-a063-b816dce9fb26"
      },
      "source": [
        "for i in range(0, 3):\n",
        "   \n",
        "    start_time = time.time()\n",
        "    \n",
        "    nuclei = cle.voronoi_otsu_labeling(single_channel, spot_sigma=10, outline_sigma=2)\n",
        "    \n",
        "    print(\"Nuclei segmentation took \" + str(time.time() - start_time) + \" s using clesperanto / Voronoi-Otsu-Labeling\")"
      ],
      "execution_count": 28,
      "outputs": [
        {
          "output_type": "stream",
          "text": [
            "Nuclei segmentation took 0.21432924270629883 s using clesperanto / Voronoi-Otsu-Labeling\n",
            "Nuclei segmentation took 0.21446895599365234 s using clesperanto / Voronoi-Otsu-Labeling\n",
            "Nuclei segmentation took 0.21133756637573242 s using clesperanto / Voronoi-Otsu-Labeling\n"
          ],
          "name": "stdout"
        }
      ]
    },
    {
      "cell_type": "code",
      "metadata": {
        "id": "qIo-Zi9Ch6Tw"
      },
      "source": [
        ""
      ],
      "execution_count": null,
      "outputs": []
    }
  ]
}