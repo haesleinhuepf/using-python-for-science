{
 "cells": [
  {
   "cell_type": "markdown",
   "metadata": {
    "id": "I_SqGquuT7K0"
   },
   "source": [
    "# GPU-libraries\n",
    "Processing large amounts of data, e.g. stored in arrays, can be computational costly. To accelerate processing, graphics processing units (GPUs) can be exploited, for example using [NVidia Compute Unified Device Architecture (CUDA)](https://en.wikipedia.org/wiki/CUDA) and the [Open Computing Language (OpenCL)](https://www.khronos.org/opencl/). For processing images with CUDA, there are a couple of libraries available. We will take a closer look at [cupy](https://cupy.dev/), which brings more general computing capabilities for CUDA compatible GPUs. Furthermore, we will take a look at [pyopencl](https://documen.tician.de/pyopencl/) and [py-clEsperanto](https://github.com/clEsperanto/pyclesperanto_prototype).\n",
    "\n",
    "See also\n",
    "* [StackOverflow: Is it possible to install cupy on google colab?](https://stackoverflow.com/questions/49135065/is-it-possible-to-install-cupy-on-google-colab)\n",
    "* [Tutorial: OpenCL SGEMM tuning for Kepler](https://cnugteren.github.io/tutorial/pages/page1.html)\n",
    "\n",
    "Before we start, we need to install cupy, pyopencl and pyclesperanto it properly. The following commands make this notebook run in Google Colab."
   ]
  },
  {
   "cell_type": "markdown",
   "metadata": {
    "colab": {
     "base_uri": "https://localhost:8080/"
    },
    "id": "zY7ZNaKWQnqQ",
    "outputId": "51734eaf-fb1e-405f-9859-1948da94b1c7"
   },
   "source": [
    "!curl https://colab.chainer.org/install | sh -\n",
    "\n",
    "!pip install scipy scikit-image cupy-cuda100"
   ]
  },
  {
   "cell_type": "code",
   "execution_count": 16,
   "metadata": {},
   "outputs": [
    {
     "name": "stdout",
     "output_type": "stream",
     "text": [
      "Requirement already satisfied: scipy in c:\\users\\rober\\miniconda3\\envs\\bio2\\lib\\site-packages (1.6.3)\n",
      "Requirement already satisfied: scikit-image in c:\\users\\rober\\miniconda3\\envs\\bio2\\lib\\site-packages (0.18.1)\n",
      "Requirement already satisfied: numpy<1.23.0,>=1.16.5 in c:\\users\\rober\\miniconda3\\envs\\bio2\\lib\\site-packages (from scipy) (1.19.5)\n",
      "Requirement already satisfied: pillow!=7.1.0,!=7.1.1,>=4.3.0 in c:\\users\\rober\\miniconda3\\envs\\bio2\\lib\\site-packages (from scikit-image) (8.2.0)\n",
      "Requirement already satisfied: networkx>=2.0 in c:\\users\\rober\\miniconda3\\envs\\bio2\\lib\\site-packages (from scikit-image) (2.5.1)\n",
      "Requirement already satisfied: matplotlib!=3.0.0,>=2.0.0 in c:\\users\\rober\\miniconda3\\envs\\bio2\\lib\\site-packages (from scikit-image) (3.4.2)\n",
      "Requirement already satisfied: tifffile>=2019.7.26 in c:\\users\\rober\\miniconda3\\envs\\bio2\\lib\\site-packages (from scikit-image) (2021.6.14)\n",
      "Requirement already satisfied: imageio>=2.3.0 in c:\\users\\rober\\miniconda3\\envs\\bio2\\lib\\site-packages (from scikit-image) (2.9.0)\n",
      "Requirement already satisfied: PyWavelets>=1.1.1 in c:\\users\\rober\\miniconda3\\envs\\bio2\\lib\\site-packages (from scikit-image) (1.1.1)\n",
      "Requirement already satisfied: python-dateutil>=2.7 in c:\\users\\rober\\miniconda3\\envs\\bio2\\lib\\site-packages (from matplotlib!=3.0.0,>=2.0.0->scikit-image) (2.8.1)\n",
      "Requirement already satisfied: kiwisolver>=1.0.1 in c:\\users\\rober\\miniconda3\\envs\\bio2\\lib\\site-packages (from matplotlib!=3.0.0,>=2.0.0->scikit-image) (1.3.1)\n",
      "Requirement already satisfied: cycler>=0.10 in c:\\users\\rober\\miniconda3\\envs\\bio2\\lib\\site-packages (from matplotlib!=3.0.0,>=2.0.0->scikit-image) (0.10.0)\n",
      "Requirement already satisfied: pyparsing>=2.2.1 in c:\\users\\rober\\miniconda3\\envs\\bio2\\lib\\site-packages (from matplotlib!=3.0.0,>=2.0.0->scikit-image) (2.4.7)\n",
      "Requirement already satisfied: six in c:\\users\\rober\\miniconda3\\envs\\bio2\\lib\\site-packages (from cycler>=0.10->matplotlib!=3.0.0,>=2.0.0->scikit-image) (1.15.0)\n",
      "Requirement already satisfied: decorator<5,>=4.3 in c:\\users\\rober\\miniconda3\\envs\\bio2\\lib\\site-packages (from networkx>=2.0->scikit-image) (4.4.2)\n"
     ]
    }
   ],
   "source": [
    "!pip install scipy scikit-image"
   ]
  },
  {
   "cell_type": "markdown",
   "metadata": {},
   "source": [
    "!pip install cupy-cuda100"
   ]
  },
  {
   "cell_type": "markdown",
   "metadata": {},
   "source": [
    "!pip install pyopencl"
   ]
  },
  {
   "cell_type": "markdown",
   "metadata": {
    "colab": {
     "base_uri": "https://localhost:8080/",
     "height": 887
    },
    "id": "BNUDnC1yX1B0",
    "outputId": "26650524-61c8-49f9-caea-309a09806bc0",
    "scrolled": true
   },
   "source": [
    "!pip install pyclesperanto_prototype"
   ]
  },
  {
   "cell_type": "markdown",
   "metadata": {},
   "source": [
    "# Scenario: Matrix multiplication\n",
    "As example scenario, we want to multiply two matrices."
   ]
  },
  {
   "cell_type": "code",
   "execution_count": 1,
   "metadata": {},
   "outputs": [
    {
     "data": {
      "text/plain": [
       "(10000, 10000)"
      ]
     },
     "execution_count": 1,
     "metadata": {},
     "output_type": "execute_result"
    }
   ],
   "source": [
    "import numpy as np\n",
    "\n",
    "# create to arrays\n",
    "np_a = np.random.random([10000,50])\n",
    "np_b = np.random.random([50,10000])\n",
    "\n",
    "np_c = np.matmul(np_a, np_b)\n",
    "np_c.shape"
   ]
  },
  {
   "cell_type": "markdown",
   "metadata": {},
   "source": [
    "[Cupy](https://cupy.dev/) is a python library for GPU-accelerated computing using [CUDA](https://en.wikipedia.org/wiki/CUDA). Its application programming interface (API) aims being compatible with the numpy API. Thus, the commands should work the same. We just need to convert our numpy arrays into cupy arrays first."
   ]
  },
  {
   "cell_type": "code",
   "execution_count": null,
   "metadata": {},
   "outputs": [],
   "source": [
    "import cupy as cp\n",
    "\n",
    "# transfer data to GPU memory\n",
    "cp_a = cp.asarray(np_a)\n",
    "cp_b = cp.asarray(np_b)\n",
    "\n",
    "cp_c = cp.matmul(cp_a, cp_b)\n",
    "cp_c.shape"
   ]
  },
  {
   "cell_type": "markdown",
   "metadata": {},
   "source": [
    "## pyopencl\n",
    "[pyopencl](https://documen.tician.de/pyopencl/) is a python library for GPU-accelerated scientific computing based on the [Open Computing Language](https://www.khronos.org/opencl/)."
   ]
  },
  {
   "cell_type": "code",
   "execution_count": 2,
   "metadata": {},
   "outputs": [
    {
     "data": {
      "text/plain": [
       "cl.Array([[5, 6, 8]])"
      ]
     },
     "execution_count": 2,
     "metadata": {},
     "output_type": "execute_result"
    }
   ],
   "source": [
    "import pyopencl as cl\n",
    "import pyopencl.array as cla\n",
    "\n",
    "# initialize GPU driver and create a queue for running operations.\n",
    "context = cl.create_some_context()\n",
    "queue = cl.CommandQueue(context)\n",
    "\n",
    "# copy data to GPU memory\n",
    "cl_a = cla.to_device(queue, np.asarray([[1, 2, 3]]))\n",
    "cl_b = cla.to_device(queue, np.asarray([[4, 4, 5]]))  \n",
    "\n",
    "# execute operations on the data\n",
    "cl_c = cl_a + cl_b\n",
    "\n",
    "# show result\n",
    "cl_c"
   ]
  },
  {
   "cell_type": "markdown",
   "metadata": {},
   "source": [
    "Thus, simple mathematical operations are supported in pyopencl, furthemore one can implement more complex operations by providing OpenCL-code. The following example executes the same operation as above but using custom OpenCL code."
   ]
  },
  {
   "cell_type": "code",
   "execution_count": 3,
   "metadata": {},
   "outputs": [
    {
     "name": "stdout",
     "output_type": "stream",
     "text": [
      "[[5 6 8]]\n"
     ]
    }
   ],
   "source": [
    "cl_d = cla.empty_like(cl_a)\n",
    "\n",
    "program = cl.Program(context, \"\"\"\n",
    "__kernel void sum(__global const float *a, __global const float *b, __global float *c)\n",
    "{\n",
    "  int i = get_global_id(1);\n",
    "  c[i] = a[i] + b[i];\n",
    "}\"\"\").build()\n",
    "\n",
    "program.sum(queue, cl_a.shape, None, cl_a.data, cl_b.data, cl_d.data)\n",
    "\n",
    "print(cl_d)"
   ]
  },
  {
   "cell_type": "markdown",
   "metadata": {},
   "source": [
    "## pyclesperanto\n",
    "As implementing custom OpenCL code for operations such as matrix multiplication is a bit cumbersome, other libraries such as [pyclesperanto](https://github.com/clEsperanto/pyclesperanto_prototype) ship with OpenCL code for such common operations."
   ]
  },
  {
   "cell_type": "code",
   "execution_count": 4,
   "metadata": {},
   "outputs": [
    {
     "data": {
      "text/plain": [
       "<NVIDIA GeForce RTX 3050 Ti Laptop GPU on Platform: NVIDIA CUDA (1 refs)>"
      ]
     },
     "execution_count": 4,
     "metadata": {},
     "output_type": "execute_result"
    }
   ],
   "source": [
    "import pyclesperanto_prototype as cle\n",
    "\n",
    "# to measure kernel execution duration properly, we need to set this flag. It will slow down exection of workflows a bit though\n",
    "cle.set_wait_for_kernel_finish(True)\n",
    "\n",
    "cle.select_device(\"RTX\")"
   ]
  },
  {
   "cell_type": "code",
   "execution_count": 5,
   "metadata": {},
   "outputs": [
    {
     "data": {
      "text/plain": [
       "(10000, 10000)"
      ]
     },
     "execution_count": 5,
     "metadata": {},
     "output_type": "execute_result"
    }
   ],
   "source": [
    "cl_c = cle.multiply_matrix(np_a, np_b)\n",
    "cl_c.shape"
   ]
  },
  {
   "cell_type": "markdown",
   "metadata": {},
   "source": [
    "As good scientists, we should also check if the results of numpy `np_c`, cupy `cp_c` and clesperanto `cl_c` are the same. Therefore we check if the results of the two GPU libraries are close to the result of numpy as reference."
   ]
  },
  {
   "cell_type": "code",
   "execution_count": null,
   "metadata": {},
   "outputs": [],
   "source": [
    "print(np.allclose(np_c, cp_c))\n",
    "print(np.allclose(np_c, cl_c))"
   ]
  },
  {
   "cell_type": "markdown",
   "metadata": {},
   "source": [
    "## Benchmarking\n",
    "We now know how to multiply matrices using numpy, cupy and clesperanto. To figure out which of the approaches is the most efficient, we should measure time passing by while executing these operations. We execute them multiple times to avoid misinterpreting individual time measurements influenced by stochastical variation and effects such as the warm-up effect. The warm-up effect results from just-in-time compilation. Some libraries compile device dependent code before running operations. This is only done once and costs some additional time while the first execution of an operation."
   ]
  },
  {
   "cell_type": "code",
   "execution_count": 6,
   "metadata": {},
   "outputs": [],
   "source": [
    "import time"
   ]
  },
  {
   "cell_type": "code",
   "execution_count": 7,
   "metadata": {},
   "outputs": [
    {
     "name": "stdout",
     "output_type": "stream",
     "text": [
      "Matrix multiplication took 0.2430555820465088 s using numpy\n",
      "Matrix multiplication took 0.2450554370880127 s using numpy\n",
      "Matrix multiplication took 0.2438063621520996 s using numpy\n"
     ]
    }
   ],
   "source": [
    "for i in range(0, 3):\n",
    "    start_time = time.time()\n",
    "    \n",
    "    np_c = np.matmul(np_a, np_b)\n",
    "    \n",
    "    print(\"Matrix multiplication took \" + str(time.time() - start_time) + \" s using numpy\")"
   ]
  },
  {
   "cell_type": "code",
   "execution_count": null,
   "metadata": {},
   "outputs": [],
   "source": [
    "for i in range(0, 3):\n",
    "    cp_a = cp.asarray(np_a)\n",
    "    cp_b = cp.asarray(np_b)\n",
    "    \n",
    "    start_time = time.time()\n",
    "    \n",
    "    cp_c = cp.matmul(cp_a, cp_b)\n",
    "    \n",
    "    cupy.cuda.stream.get_current_stream().synchronize() # we need to wait here to measure time properly\n",
    "    \n",
    "    print(\"Matrix multiplication took \" + str(time.time() - start_time) + \" s using cupy\")\n",
    "    "
   ]
  },
  {
   "cell_type": "code",
   "execution_count": 8,
   "metadata": {},
   "outputs": [
    {
     "name": "stdout",
     "output_type": "stream",
     "text": [
      "Matrix multiplication took 0.1200263500213623 s using clesperanto\n",
      "Matrix multiplication took 0.1215360164642334 s using clesperanto\n",
      "Matrix multiplication took 0.12026429176330566 s using clesperanto\n"
     ]
    }
   ],
   "source": [
    "for i in range(0, 3):\n",
    "   \n",
    "    start_time = time.time()\n",
    "    \n",
    "    cl_c = cle.multiply_matrix(np_a, np_b)\n",
    "    \n",
    "    print(\"Matrix multiplication took \" + str(time.time() - start_time) + \" s using clesperanto\")"
   ]
  },
  {
   "cell_type": "markdown",
   "metadata": {},
   "source": [
    "GPU-accelerated code can perform faster if you avoid allocating memory, especially in loops. Furthermore, if memory transfer to GPU can be avoided, that's an additional plus. In the following example, we transfer the data to the GPU before the loop and for the result-output, we store the data in the same memory block after the first execution."
   ]
  },
  {
   "cell_type": "code",
   "execution_count": 10,
   "metadata": {},
   "outputs": [
    {
     "name": "stdout",
     "output_type": "stream",
     "text": [
      "Matrix multiplication took 0.11375856399536133 s using clesperanto\n",
      "Matrix multiplication took 0.08802008628845215 s using clesperanto\n",
      "Matrix multiplication took 0.08801603317260742 s using clesperanto\n"
     ]
    }
   ],
   "source": [
    "cl_a = cle.asarray(np_a)\n",
    "cl_b = cle.asarray(np_b)\n",
    "cl_c = None\n",
    "\n",
    "for i in range(0, 3):\n",
    "   \n",
    "    start_time = time.time()\n",
    "    \n",
    "    cl_c = cle.multiply_matrix(cl_a, cl_b, cl_c)\n",
    "    \n",
    "    print(\"Matrix multiplication took \" + str(time.time() - start_time) + \" s using clesperanto\")"
   ]
  },
  {
   "cell_type": "markdown",
   "metadata": {},
   "source": [
    "## Image processing\n",
    "In image processing, we typically deal with large matrices, a.k.a. images. In the life sciences, we often work with three dimensional images. Thus, the utility of GPU-acceleration for 3D image processing is obvious.\n",
    "In the following example, we will process a three dimensional image to segment cells. This involves algorithms such as thresholding, watershed and connected component labeling."
   ]
  },
  {
   "cell_type": "code",
   "execution_count": 11,
   "metadata": {
    "id": "Ms5LcPlGSdpn"
   },
   "outputs": [],
   "source": [
    "from skimage.data import cells3d\n",
    "\n",
    "stack = cells3d()"
   ]
  },
  {
   "cell_type": "code",
   "execution_count": 12,
   "metadata": {
    "colab": {
     "base_uri": "https://localhost:8080/"
    },
    "id": "gKXmXhKZSvfH",
    "outputId": "2b18db3c-2ed6-48e0-8df3-e1ac2fcb8c51"
   },
   "outputs": [
    {
     "data": {
      "text/plain": [
       "(60, 2, 256, 256)"
      ]
     },
     "execution_count": 12,
     "metadata": {},
     "output_type": "execute_result"
    }
   ],
   "source": [
    "stack.shape"
   ]
  },
  {
   "cell_type": "code",
   "execution_count": 13,
   "metadata": {
    "colab": {
     "base_uri": "https://localhost:8080/",
     "height": 314
    },
    "id": "LBcRMyURS1fo",
    "outputId": "2bc635a6-b1ba-40ce-8840-7e00a6ad56af"
   },
   "outputs": [
    {
     "data": {
      "text/plain": [
       "<matplotlib.image.AxesImage at 0x2179c2de340>"
      ]
     },
     "execution_count": 13,
     "metadata": {},
     "output_type": "execute_result"
    },
    {
     "data": {
      "image/png": "[encoded data removed]",
      "text/plain": [
       "<Figure size 432x288 with 1 Axes>"
      ]
     },
     "metadata": {
      "needs_background": "light"
     },
     "output_type": "display_data"
    }
   ],
   "source": [
    "from skimage.io import imshow\n",
    "\n",
    "imshow(stack[30, 1, :, :])"
   ]
  },
  {
   "cell_type": "code",
   "execution_count": 14,
   "metadata": {
    "colab": {
     "base_uri": "https://localhost:8080/"
    },
    "id": "12CVKdAuCQDJ",
    "outputId": "560602c6-bc71-41fa-fa31-5505d00fd5c3"
   },
   "outputs": [
    {
     "data": {
      "text/plain": [
       "(60, 256, 256)"
      ]
     },
     "execution_count": 14,
     "metadata": {},
     "output_type": "execute_result"
    }
   ],
   "source": [
    "single_channel = stack[:, 1, :, :]\n",
    "single_channel.shape"
   ]
  },
  {
   "cell_type": "code",
   "execution_count": 25,
   "metadata": {
    "colab": {
     "base_uri": "https://localhost:8080/",
     "height": 402
    },
    "id": "-8Pgvzw2CjM2",
    "outputId": "635bcb90-694d-4c45-d870-8cc5d9f346e9"
   },
   "outputs": [
    {
     "name": "stderr",
     "output_type": "stream",
     "text": [
      "<ipython-input-25-98a7a69c285d>:14: FutureWarning: indices argument is deprecated and will be removed in version 0.20. To avoid this warning, please do not use the indices argument. Please see peak_local_max documentation for more details.\n",
      "  local_maxima = skimage.feature.peak_local_max(\n",
      "C:\\Users\\rober\\miniconda3\\envs\\bio2\\lib\\site-packages\\skimage\\io\\_plugins\\matplotlib_plugin.py:150: UserWarning: Low image data range; displaying image with stretched contrast.\n",
      "  lo, hi, cmap = _get_display_range(image)\n"
     ]
    },
    {
     "data": {
      "text/plain": [
       "<matplotlib.image.AxesImage at 0x217a8119fa0>"
      ]
     },
     "execution_count": 25,
     "metadata": {},
     "output_type": "execute_result"
    },
    {
     "data": {
      "image/png": "[encoded data removed]",
      "text/plain": [
       "<Figure size 432x288 with 2 Axes>"
      ]
     },
     "metadata": {
      "needs_background": "light"
     },
     "output_type": "display_data"
    }
   ],
   "source": [
    "import skimage\n",
    "from skimage import filters, segmentation\n",
    "\n",
    "def np_segment_nuclei(nuclei_image):\n",
    "  input_image = nuclei_image\n",
    "\n",
    "  # binarize all nuclei together\n",
    "  outline_blurred = skimage.filters.gaussian(input_image, sigma=2)\n",
    "  threshold = skimage.filters.threshold_otsu(outline_blurred)\n",
    "  binary = outline_blurred > threshold\n",
    "\n",
    "  # estimate centroids\n",
    "  spot_blurred = skimage.filters.gaussian(input_image, sigma=10)\n",
    "  local_maxima = skimage.feature.peak_local_max(\n",
    "      spot_blurred, \n",
    "      footprint=np.ones((3, 3, 3), dtype=np.bool), \n",
    "      indices=False, \n",
    "      labels=skimage.measure.label(binary)\n",
    "  )\n",
    "\n",
    "  # flood the binary image starting at the centroids\n",
    "  markers = skimage.measure.label(local_maxima)\n",
    "  labels = skimage.segmentation.watershed(-spot_blurred, markers, mask=binary)\n",
    "  \n",
    "  return labels\n",
    "\n",
    "nuclei = np_segment_nuclei(single_channel)\n",
    "imshow(nuclei.max(axis=0))"
   ]
  },
  {
   "cell_type": "markdown",
   "metadata": {},
   "source": [
    "# CUDA"
   ]
  },
  {
   "cell_type": "code",
   "execution_count": 27,
   "metadata": {},
   "outputs": [
    {
     "ename": "ImportError",
     "evalue": "CuPy is not correctly installed.\n\nIf you are using wheel distribution (cupy-cudaXX), make sure that the version of CuPy you installed matches with the version of CUDA on your host.\nAlso, confirm that only one CuPy package is installed:\n  $ pip freeze\n\nIf you are building CuPy from source, please check your environment, uninstall CuPy and reinstall it with:\n  $ pip install cupy --no-cache-dir -vvvv\n\nCheck the Installation Guide for details:\n  https://docs.cupy.dev/en/latest/install.html\n\noriginal error: DLL load failed while importing runtime: The specified module could not be found.",
     "output_type": "error",
     "traceback": [
      "\u001b[1;31m---------------------------------------------------------------------------\u001b[0m",
      "\u001b[1;31mImportError\u001b[0m                               Traceback (most recent call last)",
      "\u001b[1;32m~\\miniconda3\\envs\\bio2\\lib\\site-packages\\cupy\\__init__.py\u001b[0m in \u001b[0;36m<module>\u001b[1;34m\u001b[0m\n\u001b[0;32m     15\u001b[0m \u001b[1;32mtry\u001b[0m\u001b[1;33m:\u001b[0m\u001b[1;33m\u001b[0m\u001b[1;33m\u001b[0m\u001b[0m\n\u001b[1;32m---> 16\u001b[1;33m     \u001b[1;32mfrom\u001b[0m \u001b[0mcupy\u001b[0m \u001b[1;32mimport\u001b[0m \u001b[0m_core\u001b[0m  \u001b[1;31m# NOQA\u001b[0m\u001b[1;33m\u001b[0m\u001b[1;33m\u001b[0m\u001b[0m\n\u001b[0m\u001b[0;32m     17\u001b[0m \u001b[1;32mexcept\u001b[0m \u001b[0mImportError\u001b[0m \u001b[1;32mas\u001b[0m \u001b[0me\u001b[0m\u001b[1;33m:\u001b[0m\u001b[1;33m\u001b[0m\u001b[1;33m\u001b[0m\u001b[0m\n",
      "\u001b[1;32m~\\miniconda3\\envs\\bio2\\lib\\site-packages\\cupy\\_core\\__init__.py\u001b[0m in \u001b[0;36m<module>\u001b[1;34m\u001b[0m\n\u001b[1;32m----> 1\u001b[1;33m \u001b[1;32mfrom\u001b[0m \u001b[0mcupy\u001b[0m\u001b[1;33m.\u001b[0m\u001b[0m_core\u001b[0m \u001b[1;32mimport\u001b[0m \u001b[0mcore\u001b[0m  \u001b[1;31m# NOQA\u001b[0m\u001b[1;33m\u001b[0m\u001b[1;33m\u001b[0m\u001b[0m\n\u001b[0m\u001b[0;32m      2\u001b[0m \u001b[1;32mfrom\u001b[0m \u001b[0mcupy\u001b[0m\u001b[1;33m.\u001b[0m\u001b[0m_core\u001b[0m \u001b[1;32mimport\u001b[0m \u001b[0mfusion\u001b[0m  \u001b[1;31m# NOQA\u001b[0m\u001b[1;33m\u001b[0m\u001b[1;33m\u001b[0m\u001b[0m\n\u001b[0;32m      3\u001b[0m \u001b[1;32mfrom\u001b[0m \u001b[0mcupy\u001b[0m\u001b[1;33m.\u001b[0m\u001b[0m_core\u001b[0m \u001b[1;32mimport\u001b[0m \u001b[0minternal\u001b[0m  \u001b[1;31m# NOQA\u001b[0m\u001b[1;33m\u001b[0m\u001b[1;33m\u001b[0m\u001b[0m\n",
      "\u001b[1;32mcupy\\_core\\core.pyx\u001b[0m in \u001b[0;36minit cupy._core.core\u001b[1;34m()\u001b[0m\n",
      "\u001b[1;32m~\\miniconda3\\envs\\bio2\\lib\\site-packages\\cupy\\cuda\\__init__.py\u001b[0m in \u001b[0;36m<module>\u001b[1;34m\u001b[0m\n\u001b[0;32m      7\u001b[0m \u001b[1;32mfrom\u001b[0m \u001b[0mcupy\u001b[0m\u001b[1;33m.\u001b[0m\u001b[0m_environment\u001b[0m \u001b[1;32mimport\u001b[0m \u001b[0mget_hipcc_path\u001b[0m  \u001b[1;31m# NOQA\u001b[0m\u001b[1;33m\u001b[0m\u001b[1;33m\u001b[0m\u001b[0m\n\u001b[1;32m----> 8\u001b[1;33m \u001b[1;32mfrom\u001b[0m \u001b[0mcupy\u001b[0m\u001b[1;33m.\u001b[0m\u001b[0mcuda\u001b[0m \u001b[1;32mimport\u001b[0m \u001b[0mcompiler\u001b[0m  \u001b[1;31m# NOQA\u001b[0m\u001b[1;33m\u001b[0m\u001b[1;33m\u001b[0m\u001b[0m\n\u001b[0m\u001b[0;32m      9\u001b[0m \u001b[1;32mfrom\u001b[0m \u001b[0mcupy\u001b[0m\u001b[1;33m.\u001b[0m\u001b[0mcuda\u001b[0m \u001b[1;32mimport\u001b[0m \u001b[0mdevice\u001b[0m  \u001b[1;31m# NOQA\u001b[0m\u001b[1;33m\u001b[0m\u001b[1;33m\u001b[0m\u001b[0m\n",
      "\u001b[1;32m~\\miniconda3\\envs\\bio2\\lib\\site-packages\\cupy\\cuda\\compiler.py\u001b[0m in \u001b[0;36m<module>\u001b[1;34m\u001b[0m\n\u001b[0;32m     10\u001b[0m \u001b[1;33m\u001b[0m\u001b[0m\n\u001b[1;32m---> 11\u001b[1;33m \u001b[1;32mfrom\u001b[0m \u001b[0mcupy\u001b[0m\u001b[1;33m.\u001b[0m\u001b[0mcuda\u001b[0m \u001b[1;32mimport\u001b[0m \u001b[0mdevice\u001b[0m\u001b[1;33m\u001b[0m\u001b[1;33m\u001b[0m\u001b[0m\n\u001b[0m\u001b[0;32m     12\u001b[0m \u001b[1;32mfrom\u001b[0m \u001b[0mcupy\u001b[0m\u001b[1;33m.\u001b[0m\u001b[0mcuda\u001b[0m \u001b[1;32mimport\u001b[0m \u001b[0mfunction\u001b[0m\u001b[1;33m\u001b[0m\u001b[1;33m\u001b[0m\u001b[0m\n",
      "\u001b[1;32mcupy\\cuda\\device.pyx\u001b[0m in \u001b[0;36minit cupy.cuda.device\u001b[1;34m()\u001b[0m\n",
      "\u001b[1;31mImportError\u001b[0m: DLL load failed while importing runtime: The specified module could not be found.",
      "\nThe above exception was the direct cause of the following exception:\n",
      "\u001b[1;31mImportError\u001b[0m                               Traceback (most recent call last)",
      "\u001b[1;32m<ipython-input-27-226cfc9f36f9>\u001b[0m in \u001b[0;36m<module>\u001b[1;34m\u001b[0m\n\u001b[1;32m----> 1\u001b[1;33m \u001b[1;32mimport\u001b[0m \u001b[0mcupy\u001b[0m\u001b[1;33m\u001b[0m\u001b[1;33m\u001b[0m\u001b[0m\n\u001b[0m\u001b[0;32m      2\u001b[0m \u001b[0mcupy\u001b[0m\u001b[1;33m.\u001b[0m\u001b[0mcuda\u001b[0m\u001b[1;33m.\u001b[0m\u001b[0mruntime\u001b[0m\u001b[1;33m.\u001b[0m\u001b[0mgetDeviceProperties\u001b[0m\u001b[1;33m(\u001b[0m\u001b[1;36m0\u001b[0m\u001b[1;33m)\u001b[0m\u001b[1;33m[\u001b[0m\u001b[1;34m'name'\u001b[0m\u001b[1;33m]\u001b[0m\u001b[1;33m\u001b[0m\u001b[1;33m\u001b[0m\u001b[0m\n",
      "\u001b[1;32m~\\miniconda3\\envs\\bio2\\lib\\site-packages\\cupy\\__init__.py\u001b[0m in \u001b[0;36m<module>\u001b[1;34m\u001b[0m\n\u001b[0;32m     35\u001b[0m original error: {}'''.format(_exc_info[1]))  # NOQA\n\u001b[0;32m     36\u001b[0m \u001b[1;33m\u001b[0m\u001b[0m\n\u001b[1;32m---> 37\u001b[1;33m     \u001b[1;32mraise\u001b[0m \u001b[0mImportError\u001b[0m\u001b[1;33m(\u001b[0m\u001b[0m_msg\u001b[0m\u001b[1;33m)\u001b[0m \u001b[1;32mfrom\u001b[0m \u001b[0me\u001b[0m\u001b[1;33m\u001b[0m\u001b[1;33m\u001b[0m\u001b[0m\n\u001b[0m\u001b[0;32m     38\u001b[0m \u001b[1;33m\u001b[0m\u001b[0m\n\u001b[0;32m     39\u001b[0m \u001b[1;33m\u001b[0m\u001b[0m\n",
      "\u001b[1;31mImportError\u001b[0m: CuPy is not correctly installed.\n\nIf you are using wheel distribution (cupy-cudaXX), make sure that the version of CuPy you installed matches with the version of CUDA on your host.\nAlso, confirm that only one CuPy package is installed:\n  $ pip freeze\n\nIf you are building CuPy from source, please check your environment, uninstall CuPy and reinstall it with:\n  $ pip install cupy --no-cache-dir -vvvv\n\nCheck the Installation Guide for details:\n  https://docs.cupy.dev/en/latest/install.html\n\noriginal error: DLL load failed while importing runtime: The specified module could not be found."
     ]
    }
   ],
   "source": [
    "import cupy"
   ]
  },
  {
   "cell_type": "code",
   "execution_count": null,
   "metadata": {
    "colab": {
     "base_uri": "https://localhost:8080/",
     "height": 333
    },
    "id": "yArld1_WKV_K",
    "outputId": "e9316649-1fbe-49e2-e932-c541d55b1caa"
   },
   "outputs": [],
   "source": [
    "import cucim.skimage as cuskimage\n",
    "\n",
    "def cu_segment_nuclei(nuclei_image):\n",
    "  # send image to GPU\n",
    "  input_image = cupy.asarray(nuclei_image)\n",
    "\n",
    "  # binarize all nuclei together\n",
    "  outline_blurred = cuskimage.filters.gaussian(input_image, sigma=2)\n",
    "  threshold = cuskimage.filters.threshold_otsu(outline_blurred)\n",
    "  binary = outline_blurred > threshold\n",
    "\n",
    "  # estimate centroids\n",
    "  spot_blurred = cuskimage.filters.gaussian(input_image, sigma=10)\n",
    "  local_maxima = cuskimage.feature.peak_local_max(\n",
    "      spot_blurred, \n",
    "      footprint=np.ones((3, 3, 3), dtype=np.bool), \n",
    "      indices=False, \n",
    "      labels=cuskimage.measure.label(binary)\n",
    "  )\n",
    "\n",
    "  # flood the binary image starting at the centroids\n",
    "  markers = cuskimage.measure.label(local_maxima)\n",
    "  labels = cuskimage.segmentation.watershed(-spot_blurred, markers, mask=binary)\n",
    "  \n",
    "  return np.asarray(labels)\n",
    "\n",
    "nuclei = cu_segment_nuclei(single_channel)\n",
    "imshow(nuclei.max(axis=0))"
   ]
  },
  {
   "cell_type": "markdown",
   "metadata": {},
   "source": [
    "## pyclesperanto"
   ]
  },
  {
   "cell_type": "code",
   "execution_count": 20,
   "metadata": {
    "colab": {
     "base_uri": "https://localhost:8080/"
    },
    "id": "1sp9lx6gFF21",
    "outputId": "725649de-2ca5-4552-cd4b-a6026f57597d"
   },
   "outputs": [
    {
     "data": {
      "text/plain": [
       "<NVIDIA GeForce RTX 3050 Ti Laptop GPU on Platform: NVIDIA CUDA (2 refs)>"
      ]
     },
     "execution_count": 20,
     "metadata": {},
     "output_type": "execute_result"
    }
   ],
   "source": [
    "import pyclesperanto_prototype as cle\n",
    "cle.get_device()"
   ]
  },
  {
   "cell_type": "code",
   "execution_count": 21,
   "metadata": {},
   "outputs": [
    {
     "name": "stderr",
     "output_type": "stream",
     "text": [
      "C:\\Users\\rober\\miniconda3\\envs\\bio2\\lib\\site-packages\\skimage\\io\\_plugins\\matplotlib_plugin.py:150: UserWarning: Float image out of standard range; displaying image with stretched contrast.\n",
      "  lo, hi, cmap = _get_display_range(image)\n"
     ]
    },
    {
     "data": {
      "text/plain": [
       "<matplotlib.image.AxesImage at 0x2179ef5b1c0>"
      ]
     },
     "execution_count": 21,
     "metadata": {},
     "output_type": "execute_result"
    },
    {
     "data": {
      "image/png": "[encoded data removed]",
      "text/plain": [
       "<Figure size 432x288 with 2 Axes>"
      ]
     },
     "metadata": {
      "needs_background": "light"
     },
     "output_type": "display_data"
    }
   ],
   "source": [
    "def cl_segment_nuclei(nuclei_image):\n",
    "  input_image = nuclei_image\n",
    "\n",
    "  # binarize all nuclei together\n",
    "  outline_blurred = cle.gaussian_blur(input_image, sigma_x=2, sigma_y=2, sigma_z=2)\n",
    "  binary = cle.threshold_otsu(outline_blurred)\n",
    "  \n",
    "  # estimate centroids\n",
    "  spot_blurred = cle.gaussian_blur(input_image, sigma_x=10, sigma_y=10, sigma_z=10)\n",
    "  local_maxima = cle.detect_maxima_box(spot_blurred, radius_x=1, radius_y=1, radius_z=1)\n",
    "\n",
    "  # flood the binary image starting at the centroids\n",
    "  labels = cle.masked_voronoi_labeling(local_maxima, binary)\n",
    "  \n",
    "  return labels\n",
    "\n",
    "nuclei = cl_segment_nuclei(single_channel)\n",
    "imshow(nuclei.max(axis=0))"
   ]
  },
  {
   "cell_type": "markdown",
   "metadata": {},
   "source": [
    "As clesperanto is developed by life scientists, there is a method built-in doing pretty much the same as shown above: [Voronoi-Otsu-Labeling](https://nbviewer.jupyter.org/github/clEsperanto/pyclesperanto_prototype/tree/master/demo/segmentation/voronoi_otsu_labeling.ipynb)."
   ]
  },
  {
   "cell_type": "code",
   "execution_count": 23,
   "metadata": {},
   "outputs": [
    {
     "name": "stderr",
     "output_type": "stream",
     "text": [
      "C:\\Users\\rober\\miniconda3\\envs\\bio2\\lib\\site-packages\\skimage\\io\\_plugins\\matplotlib_plugin.py:150: UserWarning: Float image out of standard range; displaying image with stretched contrast.\n",
      "  lo, hi, cmap = _get_display_range(image)\n"
     ]
    },
    {
     "data": {
      "text/plain": [
       "<matplotlib.image.AxesImage at 0x217ac5221c0>"
      ]
     },
     "execution_count": 23,
     "metadata": {},
     "output_type": "execute_result"
    },
    {
     "data": {
      "image/png": "[encoded data removed]",
      "text/plain": [
       "<Figure size 432x288 with 2 Axes>"
      ]
     },
     "metadata": {
      "needs_background": "light"
     },
     "output_type": "display_data"
    }
   ],
   "source": [
    "\n",
    "nuclei = cle.voronoi_otsu_labeling(single_channel, spot_sigma=10, outline_sigma=2)\n",
    "\n",
    "imshow(nuclei.max(axis=0))"
   ]
  },
  {
   "cell_type": "markdown",
   "metadata": {},
   "source": [
    "## Benchmarking\n",
    "As mentioned above, we will benchmark those algorithms to compare performance."
   ]
  },
  {
   "cell_type": "code",
   "execution_count": 26,
   "metadata": {},
   "outputs": [
    {
     "name": "stderr",
     "output_type": "stream",
     "text": [
      "<ipython-input-25-98a7a69c285d>:14: FutureWarning: indices argument is deprecated and will be removed in version 0.20. To avoid this warning, please do not use the indices argument. Please see peak_local_max documentation for more details.\n",
      "  local_maxima = skimage.feature.peak_local_max(\n"
     ]
    },
    {
     "name": "stdout",
     "output_type": "stream",
     "text": [
      "Nuclei segmentation took 1.0597450733184814 s using numpy\n",
      "Nuclei segmentation took 1.0552396774291992 s using numpy\n",
      "Nuclei segmentation took 1.0459222793579102 s using numpy\n"
     ]
    }
   ],
   "source": [
    "for i in range(0, 3):\n",
    "    start_time = time.time()\n",
    "    \n",
    "    nuclei = np_segment_nuclei(single_channel)\n",
    "    \n",
    "    print(\"Nuclei segmentation took \" + str(time.time() - start_time) + \" s using numpy\")"
   ]
  },
  {
   "cell_type": "code",
   "execution_count": 24,
   "metadata": {},
   "outputs": [
    {
     "name": "stdout",
     "output_type": "stream",
     "text": [
      "Nuclei segmentation took 0.19744658470153809 s using clesperanto\n",
      "Nuclei segmentation took 0.19676518440246582 s using clesperanto\n",
      "Nuclei segmentation took 0.19615674018859863 s using clesperanto\n"
     ]
    }
   ],
   "source": [
    "for i in range(0, 3):\n",
    "   \n",
    "    start_time = time.time()\n",
    "    \n",
    "    nuclei = cl_segment_nuclei(single_channel)\n",
    "    \n",
    "    print(\"Nuclei segmentation took \" + str(time.time() - start_time) + \" s using clesperanto\")"
   ]
  },
  {
   "cell_type": "code",
   "execution_count": null,
   "metadata": {},
   "outputs": [],
   "source": []
  }
 ],
 "metadata": {
  "accelerator": "GPU",
  "colab": {
   "name": "cupy_cucim.ipynb",
   "provenance": []
  },
  "kernelspec": {
   "display_name": "Python 3",
   "language": "python",
   "name": "python3"
  },
  "language_info": {
   "codemirror_mode": {
    "name": "ipython",
    "version": 3
   },
   "file_extension": ".py",
   "mimetype": "text/x-python",
   "name": "python",
   "nbconvert_exporter": "python",
   "pygments_lexer": "ipython3",
   "version": "3.9.4"
  }
 },
 "nbformat": 4,
 "nbformat_minor": 1
}
